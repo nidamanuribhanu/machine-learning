{
 "cells": [
  {
   "cell_type": "markdown",
   "metadata": {},
   "source": [
    "```\n",
    "Data Structure:\n",
    "cycle:\ttop level structure array containing the charge, discharge and impedance operations\n",
    "\ttype: \toperation  type, can be charge, discharge or impedance\n",
    "\tambient_temperature:\tambient temperature (degree C)\n",
    "\ttime: \tthe date and time of the start of the cycle, in MATLAB  date vector format\n",
    "\t\n",
    "    data:\tdata structure containing the measurements\n",
    "    \n",
    "\t   for charge the fields are:\n",
    "                Voltage_measured: \t    Battery terminal voltage (Volts)\n",
    "                Current_measured:\t    Battery output current (Amps)\n",
    "                Temperature_measured: \tBattery temperature (degree C)\n",
    "                Current_charge:\t\t    Current measured at charger (Amps)\n",
    "                Voltage_charge:\t\t    Voltage measured at charger (Volts)\n",
    "                Time:\t\t\t        Time vector for the cycle (secs)\n",
    "                \n",
    "\t   for discharge the fields are:\n",
    "                Voltage_measured: \t    Battery terminal voltage (Volts)\n",
    "                Current_measured:\t    Battery output current (Amps)\n",
    "                Temperature_measured: \tBattery temperature (degree C)\n",
    "                Current_load:\t\t    Current measured at load (Amps)\n",
    "                Voltage_load:\t\t    Voltage measured at load (Volts)\n",
    "                Time:\t\t\t        Time vector for the cycle (secs)\n",
    "                Capacity:\t\t        Battery capacity (Ahr) for discharge till 2.7V \n",
    "                \n",
    "\t   for impedance the fields are:\n",
    "                Sense_current:\t\t    Current in sense branch (Amps)\n",
    "                Battery_current:\t    Current in battery branch (Amps)\n",
    "                Current_ratio:\t\t    Ratio of the above currents \n",
    "                Battery_impedance:\t    Battery impedance (Ohms) computed from raw data\n",
    "                Rectified_impedance:\tCalibrated and smoothed battery impedance (Ohms) \n",
    "                Re:\t\t\t            Estimated electrolyte resistance (Ohms)\n",
    "                Rct:\t\t\t        Estimated charge transfer resistance (Ohms)\n",
    "```"
   ]
  },
  {
   "cell_type": "code",
   "execution_count": 1,
   "metadata": {},
   "outputs": [],
   "source": [
    "%matplotlib qt"
   ]
  },
  {
   "cell_type": "code",
   "execution_count": 2,
   "metadata": {},
   "outputs": [],
   "source": [
    "from scipy.io import loadmat\n",
    "\n",
    "bs_all = [\n",
    "    'B0005',\n",
    "    'B0006',\n",
    "    'B0007',\n",
    "    'B0018',\n",
    "    'B0025',\n",
    "    'B0026',\n",
    "    'B0027',\n",
    "    'B0028',\n",
    "    'B0029',\n",
    "    'B0030',\n",
    "    'B0031',\n",
    "    'B0032',\n",
    "    'B0033',\n",
    "    'B0034',\n",
    "    'B0036',\n",
    "    'B0038',\n",
    "    'B0039',\n",
    "    'B0040',\n",
    "    'B0041',\n",
    "    'B0042',\n",
    "    'B0043',\n",
    "    'B0044',\n",
    "    'B0045',\n",
    "    'B0046',\n",
    "    'B0047',\n",
    "    'B0048',\n",
    "    'B0049',\n",
    "    'B0050',\n",
    "    'B0051',\n",
    "    'B0052',\n",
    "    'B0053',\n",
    "    'B0054',\n",
    "    'B0055',\n",
    "    'B0056',\n",
    "]\n",
    "\n",
    "bs = [\n",
    "    'B0005',\n",
    "    'B0006',\n",
    "    'B0007',\n",
    "    'B0018'\n",
    "]\n",
    "\n",
    "ds = []\n",
    "for b in bs:\n",
    "    ds.append(loadmat(f'DATA/{b}.mat'))\n",
    "    "
   ]
  },
  {
   "cell_type": "code",
   "execution_count": 3,
   "metadata": {},
   "outputs": [],
   "source": [
    "types = []\n",
    "times = []\n",
    "ambient_temperatures = []\n",
    "datas = []\n",
    "\n",
    "for i in range(len(ds)):\n",
    "    x = ds[i][bs[i]][\"cycle\"][0][0][0]\n",
    "    ambient_temperatures.append(x['ambient_temperature'])\n",
    "    types.append(x['type'])\n",
    "    times.append(x['time'])\n",
    "    datas.append(x['data'])"
   ]
  },
  {
   "cell_type": "code",
   "execution_count": 4,
   "metadata": {
    "scrolled": true
   },
   "outputs": [
    {
     "name": "stdout",
     "output_type": "stream",
     "text": [
      "Battery: B0005\n",
      "Cycles: 616\n",
      "\n",
      "Battery: B0006\n",
      "Cycles: 616\n",
      "\n",
      "Battery: B0007\n",
      "Cycles: 616\n",
      "\n",
      "Battery: B0018\n",
      "Cycles: 319\n",
      "\n"
     ]
    }
   ],
   "source": [
    "for i in range(len(ds)):\n",
    "    print(f'Battery: {bs[i]}')\n",
    "    print(f'Cycles: {datas[i].size}')\n",
    "    print()"
   ]
  },
  {
   "cell_type": "code",
   "execution_count": 5,
   "metadata": {},
   "outputs": [],
   "source": [
    "# Example data\n",
    "# print(f'Ambient Temp: {ambient_temperature[0]}')\n",
    "# print(f'Type: {type[0]}')\n",
    "# print(f'Time: {time[0]}')\n",
    "# print('Data:')\n",
    "# print('\\tVoltage_measured: ', data[0]['Voltage_measured'])\n",
    "# print('\\tCurrent_measured: ', data[0]['Current_measured'])\n",
    "# print('\\tTemperature_measured: ', data[0]['Temperature_measured'])\n",
    "# print('\\tCurrent_charge: ', data[0]['Current_charge'])\n",
    "# print('\\tVoltage_charge: ', data[0]['Voltage_charge'])\n",
    "# print('\\tTime: ', data[0]['Time'])"
   ]
  },
  {
   "cell_type": "code",
   "execution_count": 6,
   "metadata": {},
   "outputs": [],
   "source": [
    "import matplotlib.pyplot as plt\n",
    "import numpy as np"
   ]
  },
  {
   "cell_type": "markdown",
   "metadata": {},
   "source": [
    "## Charge All Cycles"
   ]
  },
  {
   "cell_type": "code",
   "execution_count": 13,
   "metadata": {},
   "outputs": [],
   "source": [
    "params = ['Voltage_measured', 'Current_measured', 'Temperature_measured', 'Current_charge', 'Voltage_charge']\n",
    "\n",
    "# for i in range(data.size):\n",
    "#     if type[i] == 'charge':\n",
    "#         plt.plot(data[i]['Time'][0][0][0], data[i]['Voltage_measured'][0][0][0])\n",
    "#         plt.xlabel('Time')\n",
    "#         plt.ylabel('Voltage_measured')\n",
    "\n",
    "for p in params:\n",
    "    fig, axs = plt.subplots((len(bs) + 1) // 2, 2)\n",
    "    param = p\n",
    "    for i in range(len(bs)):\n",
    "        for j in range(datas[i].size):\n",
    "            if types[i][j] == 'charge':\n",
    "\n",
    "                if i % 2 == 0:\n",
    "                    axs[i // 2, 0].plot(datas[i][j]['Time'][0][0][0], datas[i][j][param][0][0][0])\n",
    "                    axs[i // 2, 0].set_title(f'Battery: {bs[i]}')\n",
    "                else:\n",
    "                    axs[i // 2, 1].plot(datas[i][j]['Time'][0][0][0], datas[i][j][param][0][0][0])\n",
    "                    axs[i // 2, 1].set_title(f'Battery: {bs[i]}')\n",
    "    for ax in axs.flat:\n",
    "        ax.set(ylabel = param, xlabel = 'Time')\n",
    "    fig.tight_layout(pad = 0.3)"
   ]
  },
  {
   "cell_type": "markdown",
   "metadata": {},
   "source": [
    "## Charge First and Last Cycles"
   ]
  },
  {
   "cell_type": "code",
   "execution_count": 9,
   "metadata": {},
   "outputs": [],
   "source": [
    "for p in params:\n",
    "    \n",
    "    # Printing first cycles\n",
    "    \n",
    "    fig, axs = plt.subplots((len(bs) + 1) // 2, 2)\n",
    "    param = p\n",
    "    for i in range(len(bs)):\n",
    "        for j in range(20):\n",
    "            if types[i][j] == 'charge':\n",
    "                if i % 2 == 0:\n",
    "                    axs[i // 2, 0].plot(datas[i][j]['Time'][0][0][0], datas[i][j][param][0][0][0], label = f'{j + 1}')\n",
    "                    axs[i // 2, 0].set_title(f'Battery: {bs[i]}')\n",
    "                    axs[i // 2, 0].legend()\n",
    "                else:\n",
    "                    axs[i // 2, 1].plot(datas[i][j]['Time'][0][0][0], datas[i][j][param][0][0][0], label = f'{j + 1}')\n",
    "                    axs[i // 2, 1].set_title(f'Battery: {bs[i]}')\n",
    "                    axs[i // 2, 1].legend()\n",
    "    for ax in axs.flat:\n",
    "        ax.set(ylabel = param, xlabel = 'Time')\n",
    "    fig.tight_layout(pad = 0.3)\n",
    "\n",
    "    # Printing last cycles\n",
    "\n",
    "    fig, axs = plt.subplots((len(bs) + 1) // 2, 2)\n",
    "    for i in range(len(bs)):\n",
    "        for j in range(datas[i].size - 20, datas[i].size):\n",
    "            if types[i][j] == 'charge':\n",
    "                if i % 2 == 0:\n",
    "                    axs[i // 2, 0].plot(datas[i][j]['Time'][0][0][0], datas[i][j][param][0][0][0], label = f'{j + 1}')\n",
    "                    axs[i // 2, 0].set_title(f'Battery: {bs[i]}')\n",
    "                    axs[i // 2, 0].legend()\n",
    "                else:\n",
    "                    axs[i // 2, 1].plot(datas[i][j]['Time'][0][0][0], datas[i][j][param][0][0][0], label = f'{j + 1}')\n",
    "                    axs[i // 2, 1].set_title(f'Battery: {bs[i]}')\n",
    "                    axs[i // 2, 1].legend()\n",
    "\n",
    "    for ax in axs.flat:\n",
    "        ax.set(ylabel = param, xlabel = 'Time')\n",
    "    fig.tight_layout(pad = 0.3)"
   ]
  },
  {
   "cell_type": "markdown",
   "metadata": {},
   "source": [
    "## Discharge All Cycles"
   ]
  },
  {
   "cell_type": "code",
   "execution_count": 15,
   "metadata": {},
   "outputs": [],
   "source": [
    "params = ['Voltage_measured', 'Current_measured', 'Temperature_measured', 'Current_load', 'Voltage_load']\n",
    "\n",
    "for param in params:\n",
    "    fig, axs = plt.subplots((len(bs) + 1) // 2, 2)\n",
    "    for i in range(len(bs)):\n",
    "        for j in range(datas[i].size):\n",
    "            if types[i][j] == 'discharge':\n",
    "                if i % 2 == 0:\n",
    "                    axs[i // 2, 0].plot(datas[i][j]['Time'][0][0][0], datas[i][j][param][0][0][0])\n",
    "                    axs[i // 2, 0].set_title(f'Battery: {bs[i]}')\n",
    "                else:\n",
    "                    axs[i // 2, 1].plot(datas[i][j]['Time'][0][0][0], datas[i][j][param][0][0][0])\n",
    "                    axs[i // 2, 1].set_title(f'Battery: {bs[i]}')\n",
    "    for ax in axs.flat:\n",
    "        ax.set(ylabel = param, xlabel = 'Time')\n",
    "    fig.tight_layout(pad = 0.3)\n",
    "\n",
    "fig, axs = plt.subplots((len(bs) + 1) // 2, 2)\n",
    "for i in range(len(bs)):\n",
    "    cap = []\n",
    "    cycle = []\n",
    "    for j in range(datas[i].size):\n",
    "        if types[i][j] == 'discharge':\n",
    "            cap.append(datas[i][j]['Capacity'][0][0][0][0])\n",
    "            cycle.append(j)\n",
    "    if i % 2 == 0:\n",
    "        axs[i // 2, 0].plot(cycle, cap)\n",
    "        axs[i // 2, 0].set_title(f'Battery: {bs[i]}')\n",
    "    else:\n",
    "        axs[i // 2, 1].plot(cycle, cap)\n",
    "        axs[i // 2, 1].set_title(f'Battery: {bs[i]}')\n",
    "        \n",
    "    for ax in axs.flat:\n",
    "        ax.set(ylabel = 'Capacity', xlabel = 'Cycles')\n",
    "fig.tight_layout(pad = 0.3)"
   ]
  },
  {
   "cell_type": "markdown",
   "metadata": {},
   "source": [
    "## Discharge First and Last Cycles"
   ]
  },
  {
   "cell_type": "code",
   "execution_count": 23,
   "metadata": {},
   "outputs": [
    {
     "name": "stderr",
     "output_type": "stream",
     "text": [
      "No handles with labels found to put in legend.\n",
      "No handles with labels found to put in legend.\n",
      "No handles with labels found to put in legend.\n",
      "No handles with labels found to put in legend.\n",
      "No handles with labels found to put in legend.\n",
      "No handles with labels found to put in legend.\n",
      "No handles with labels found to put in legend.\n",
      "No handles with labels found to put in legend.\n",
      "No handles with labels found to put in legend.\n",
      "No handles with labels found to put in legend.\n",
      "No handles with labels found to put in legend.\n",
      "No handles with labels found to put in legend.\n",
      "No handles with labels found to put in legend.\n",
      "No handles with labels found to put in legend.\n",
      "No handles with labels found to put in legend.\n",
      "No handles with labels found to put in legend.\n",
      "No handles with labels found to put in legend.\n",
      "No handles with labels found to put in legend.\n",
      "No handles with labels found to put in legend.\n",
      "No handles with labels found to put in legend.\n",
      "No handles with labels found to put in legend.\n",
      "No handles with labels found to put in legend.\n",
      "No handles with labels found to put in legend.\n",
      "No handles with labels found to put in legend.\n",
      "No handles with labels found to put in legend.\n",
      "No handles with labels found to put in legend.\n",
      "No handles with labels found to put in legend.\n",
      "No handles with labels found to put in legend.\n",
      "No handles with labels found to put in legend.\n",
      "No handles with labels found to put in legend.\n",
      "No handles with labels found to put in legend.\n",
      "No handles with labels found to put in legend.\n",
      "No handles with labels found to put in legend.\n",
      "No handles with labels found to put in legend.\n",
      "No handles with labels found to put in legend.\n",
      "No handles with labels found to put in legend.\n",
      "No handles with labels found to put in legend.\n",
      "No handles with labels found to put in legend.\n",
      "No handles with labels found to put in legend.\n",
      "No handles with labels found to put in legend.\n",
      "No handles with labels found to put in legend.\n",
      "No handles with labels found to put in legend.\n",
      "No handles with labels found to put in legend.\n",
      "No handles with labels found to put in legend.\n",
      "No handles with labels found to put in legend.\n",
      "No handles with labels found to put in legend.\n",
      "No handles with labels found to put in legend.\n",
      "No handles with labels found to put in legend.\n",
      "No handles with labels found to put in legend.\n",
      "No handles with labels found to put in legend.\n",
      "No handles with labels found to put in legend.\n",
      "No handles with labels found to put in legend.\n",
      "No handles with labels found to put in legend.\n",
      "No handles with labels found to put in legend.\n",
      "No handles with labels found to put in legend.\n",
      "No handles with labels found to put in legend.\n",
      "No handles with labels found to put in legend.\n",
      "No handles with labels found to put in legend.\n",
      "No handles with labels found to put in legend.\n",
      "No handles with labels found to put in legend.\n",
      "No handles with labels found to put in legend.\n",
      "No handles with labels found to put in legend.\n",
      "No handles with labels found to put in legend.\n",
      "No handles with labels found to put in legend.\n",
      "No handles with labels found to put in legend.\n",
      "No handles with labels found to put in legend.\n",
      "No handles with labels found to put in legend.\n",
      "No handles with labels found to put in legend.\n",
      "No handles with labels found to put in legend.\n",
      "No handles with labels found to put in legend.\n",
      "No handles with labels found to put in legend.\n",
      "No handles with labels found to put in legend.\n",
      "No handles with labels found to put in legend.\n",
      "No handles with labels found to put in legend.\n",
      "No handles with labels found to put in legend.\n",
      "No handles with labels found to put in legend.\n",
      "No handles with labels found to put in legend.\n",
      "No handles with labels found to put in legend.\n",
      "No handles with labels found to put in legend.\n",
      "No handles with labels found to put in legend.\n",
      "No handles with labels found to put in legend.\n",
      "No handles with labels found to put in legend.\n",
      "No handles with labels found to put in legend.\n",
      "No handles with labels found to put in legend.\n",
      "No handles with labels found to put in legend.\n",
      "No handles with labels found to put in legend.\n",
      "No handles with labels found to put in legend.\n",
      "No handles with labels found to put in legend.\n",
      "No handles with labels found to put in legend.\n",
      "No handles with labels found to put in legend.\n",
      "No handles with labels found to put in legend.\n",
      "No handles with labels found to put in legend.\n",
      "No handles with labels found to put in legend.\n",
      "No handles with labels found to put in legend.\n",
      "No handles with labels found to put in legend.\n",
      "No handles with labels found to put in legend.\n",
      "No handles with labels found to put in legend.\n",
      "No handles with labels found to put in legend.\n",
      "No handles with labels found to put in legend.\n",
      "No handles with labels found to put in legend.\n",
      "No handles with labels found to put in legend.\n",
      "No handles with labels found to put in legend.\n",
      "No handles with labels found to put in legend.\n",
      "No handles with labels found to put in legend.\n",
      "No handles with labels found to put in legend.\n",
      "No handles with labels found to put in legend.\n",
      "No handles with labels found to put in legend.\n",
      "No handles with labels found to put in legend.\n",
      "No handles with labels found to put in legend.\n",
      "No handles with labels found to put in legend.\n",
      "No handles with labels found to put in legend.\n",
      "No handles with labels found to put in legend.\n",
      "No handles with labels found to put in legend.\n",
      "No handles with labels found to put in legend.\n",
      "No handles with labels found to put in legend.\n",
      "No handles with labels found to put in legend.\n",
      "No handles with labels found to put in legend.\n",
      "No handles with labels found to put in legend.\n",
      "No handles with labels found to put in legend.\n",
      "No handles with labels found to put in legend.\n",
      "No handles with labels found to put in legend.\n",
      "No handles with labels found to put in legend.\n",
      "No handles with labels found to put in legend.\n",
      "No handles with labels found to put in legend.\n",
      "No handles with labels found to put in legend.\n",
      "No handles with labels found to put in legend.\n",
      "No handles with labels found to put in legend.\n",
      "No handles with labels found to put in legend.\n",
      "No handles with labels found to put in legend.\n",
      "No handles with labels found to put in legend.\n",
      "No handles with labels found to put in legend.\n",
      "No handles with labels found to put in legend.\n",
      "No handles with labels found to put in legend.\n",
      "No handles with labels found to put in legend.\n",
      "No handles with labels found to put in legend.\n",
      "No handles with labels found to put in legend.\n",
      "No handles with labels found to put in legend.\n",
      "No handles with labels found to put in legend.\n",
      "No handles with labels found to put in legend.\n",
      "No handles with labels found to put in legend.\n",
      "No handles with labels found to put in legend.\n",
      "No handles with labels found to put in legend.\n",
      "No handles with labels found to put in legend.\n",
      "No handles with labels found to put in legend.\n",
      "No handles with labels found to put in legend.\n",
      "No handles with labels found to put in legend.\n",
      "No handles with labels found to put in legend.\n",
      "No handles with labels found to put in legend.\n",
      "No handles with labels found to put in legend.\n",
      "No handles with labels found to put in legend.\n",
      "No handles with labels found to put in legend.\n",
      "No handles with labels found to put in legend.\n",
      "No handles with labels found to put in legend.\n",
      "No handles with labels found to put in legend.\n",
      "No handles with labels found to put in legend.\n",
      "No handles with labels found to put in legend.\n",
      "No handles with labels found to put in legend.\n",
      "No handles with labels found to put in legend.\n",
      "No handles with labels found to put in legend.\n",
      "No handles with labels found to put in legend.\n",
      "No handles with labels found to put in legend.\n",
      "No handles with labels found to put in legend.\n",
      "No handles with labels found to put in legend.\n",
      "No handles with labels found to put in legend.\n",
      "No handles with labels found to put in legend.\n",
      "No handles with labels found to put in legend.\n",
      "No handles with labels found to put in legend.\n",
      "No handles with labels found to put in legend.\n",
      "No handles with labels found to put in legend.\n",
      "No handles with labels found to put in legend.\n",
      "No handles with labels found to put in legend.\n",
      "No handles with labels found to put in legend.\n",
      "No handles with labels found to put in legend.\n",
      "No handles with labels found to put in legend.\n",
      "No handles with labels found to put in legend.\n"
     ]
    },
    {
     "name": "stderr",
     "output_type": "stream",
     "text": [
      "No handles with labels found to put in legend.\n",
      "No handles with labels found to put in legend.\n",
      "No handles with labels found to put in legend.\n",
      "No handles with labels found to put in legend.\n",
      "No handles with labels found to put in legend.\n",
      "No handles with labels found to put in legend.\n",
      "No handles with labels found to put in legend.\n",
      "No handles with labels found to put in legend.\n",
      "No handles with labels found to put in legend.\n",
      "No handles with labels found to put in legend.\n",
      "No handles with labels found to put in legend.\n",
      "No handles with labels found to put in legend.\n",
      "No handles with labels found to put in legend.\n",
      "No handles with labels found to put in legend.\n",
      "No handles with labels found to put in legend.\n",
      "No handles with labels found to put in legend.\n",
      "No handles with labels found to put in legend.\n",
      "No handles with labels found to put in legend.\n",
      "No handles with labels found to put in legend.\n",
      "No handles with labels found to put in legend.\n",
      "No handles with labels found to put in legend.\n",
      "No handles with labels found to put in legend.\n",
      "No handles with labels found to put in legend.\n",
      "No handles with labels found to put in legend.\n",
      "No handles with labels found to put in legend.\n",
      "No handles with labels found to put in legend.\n",
      "No handles with labels found to put in legend.\n",
      "No handles with labels found to put in legend.\n",
      "No handles with labels found to put in legend.\n",
      "No handles with labels found to put in legend.\n",
      "No handles with labels found to put in legend.\n",
      "No handles with labels found to put in legend.\n",
      "No handles with labels found to put in legend.\n",
      "No handles with labels found to put in legend.\n",
      "No handles with labels found to put in legend.\n",
      "No handles with labels found to put in legend.\n",
      "No handles with labels found to put in legend.\n",
      "No handles with labels found to put in legend.\n",
      "No handles with labels found to put in legend.\n",
      "No handles with labels found to put in legend.\n",
      "No handles with labels found to put in legend.\n",
      "No handles with labels found to put in legend.\n",
      "No handles with labels found to put in legend.\n",
      "No handles with labels found to put in legend.\n",
      "No handles with labels found to put in legend.\n",
      "No handles with labels found to put in legend.\n",
      "No handles with labels found to put in legend.\n",
      "No handles with labels found to put in legend.\n",
      "No handles with labels found to put in legend.\n",
      "No handles with labels found to put in legend.\n",
      "No handles with labels found to put in legend.\n",
      "No handles with labels found to put in legend.\n",
      "No handles with labels found to put in legend.\n",
      "No handles with labels found to put in legend.\n",
      "No handles with labels found to put in legend.\n",
      "No handles with labels found to put in legend.\n",
      "No handles with labels found to put in legend.\n",
      "No handles with labels found to put in legend.\n",
      "No handles with labels found to put in legend.\n",
      "No handles with labels found to put in legend.\n",
      "No handles with labels found to put in legend.\n",
      "No handles with labels found to put in legend.\n",
      "No handles with labels found to put in legend.\n",
      "No handles with labels found to put in legend.\n",
      "No handles with labels found to put in legend.\n",
      "No handles with labels found to put in legend.\n",
      "No handles with labels found to put in legend.\n",
      "No handles with labels found to put in legend.\n",
      "No handles with labels found to put in legend.\n",
      "No handles with labels found to put in legend.\n",
      "No handles with labels found to put in legend.\n",
      "No handles with labels found to put in legend.\n",
      "No handles with labels found to put in legend.\n",
      "No handles with labels found to put in legend.\n",
      "No handles with labels found to put in legend.\n",
      "No handles with labels found to put in legend.\n",
      "No handles with labels found to put in legend.\n",
      "No handles with labels found to put in legend.\n",
      "No handles with labels found to put in legend.\n",
      "No handles with labels found to put in legend.\n",
      "No handles with labels found to put in legend.\n",
      "No handles with labels found to put in legend.\n",
      "No handles with labels found to put in legend.\n",
      "No handles with labels found to put in legend.\n",
      "No handles with labels found to put in legend.\n",
      "No handles with labels found to put in legend.\n",
      "No handles with labels found to put in legend.\n",
      "No handles with labels found to put in legend.\n",
      "No handles with labels found to put in legend.\n",
      "No handles with labels found to put in legend.\n",
      "No handles with labels found to put in legend.\n",
      "No handles with labels found to put in legend.\n",
      "No handles with labels found to put in legend.\n",
      "No handles with labels found to put in legend.\n",
      "No handles with labels found to put in legend.\n",
      "No handles with labels found to put in legend.\n",
      "No handles with labels found to put in legend.\n",
      "No handles with labels found to put in legend.\n",
      "No handles with labels found to put in legend.\n",
      "No handles with labels found to put in legend.\n",
      "No handles with labels found to put in legend.\n",
      "No handles with labels found to put in legend.\n",
      "No handles with labels found to put in legend.\n",
      "No handles with labels found to put in legend.\n",
      "No handles with labels found to put in legend.\n",
      "No handles with labels found to put in legend.\n",
      "No handles with labels found to put in legend.\n",
      "No handles with labels found to put in legend.\n",
      "No handles with labels found to put in legend.\n",
      "No handles with labels found to put in legend.\n",
      "No handles with labels found to put in legend.\n",
      "No handles with labels found to put in legend.\n",
      "No handles with labels found to put in legend.\n",
      "No handles with labels found to put in legend.\n",
      "No handles with labels found to put in legend.\n",
      "No handles with labels found to put in legend.\n",
      "No handles with labels found to put in legend.\n",
      "No handles with labels found to put in legend.\n",
      "No handles with labels found to put in legend.\n",
      "No handles with labels found to put in legend.\n",
      "No handles with labels found to put in legend.\n",
      "No handles with labels found to put in legend.\n",
      "No handles with labels found to put in legend.\n",
      "No handles with labels found to put in legend.\n",
      "No handles with labels found to put in legend.\n"
     ]
    }
   ],
   "source": [
    "for p in params:\n",
    "    \n",
    "    # Printing first cycles\n",
    "    \n",
    "    fig, axs = plt.subplots((len(bs) + 1) // 2, 2)\n",
    "    param = p\n",
    "    for i in range(len(bs)):\n",
    "        for j in range(20):\n",
    "            if types[i][j] == 'discharge':\n",
    "                if i % 2 == 0:\n",
    "                    axs[i // 2, 0].plot(datas[i][j]['Time'][0][0][0], datas[i][j][param][0][0][0], '-r')\n",
    "                    axs[i // 2, 0].set_title(f'Battery: {bs[i]}')\n",
    "                    axs[i // 2, 0].legend()\n",
    "                else:\n",
    "                    axs[i // 2, 1].plot(datas[i][j]['Time'][0][0][0], datas[i][j][param][0][0][0], '-r')\n",
    "                    axs[i // 2, 1].set_title(f'Battery: {bs[i]}')\n",
    "                    axs[i // 2, 1].legend()\n",
    "#     for ax in axs.flat:\n",
    "#         ax.set(ylabel = param, xlabel = 'Time')\n",
    "#     fig.tight_layout(pad = 0.3)\n",
    "\n",
    "    # Printing last cycles\n",
    "\n",
    "#     fig, axs = plt.subplots((len(bs) + 1) // 2, 2)\n",
    "    for i in range(len(bs)):\n",
    "        for j in range(datas[i].size - 20, datas[i].size):\n",
    "            if types[i][j] == 'discharge':\n",
    "                if i % 2 == 0:\n",
    "                    axs[i // 2, 0].plot(datas[i][j]['Time'][0][0][0], datas[i][j][param][0][0][0], '-b')\n",
    "                    axs[i // 2, 0].set_title(f'Battery: {bs[i]}')\n",
    "                    axs[i // 2, 0].legend()\n",
    "                else:\n",
    "                    axs[i // 2, 1].plot(datas[i][j]['Time'][0][0][0], datas[i][j][param][0][0][0], '-b')\n",
    "                    axs[i // 2, 1].set_title(f'Battery: {bs[i]}')\n",
    "                    axs[i // 2, 1].legend()\n",
    "\n",
    "    for ax in axs.flat:\n",
    "        ax.set(ylabel = param, xlabel = 'Time')\n",
    "        ax.legend(['First 20', 'Last 20'])\n",
    "        leg = ax.get_legend()\n",
    "        leg.legendHandles[0].set_color('red')\n",
    "        leg.legendHandles[1].set_color('blue')\n",
    "    fig.tight_layout(pad = 0.3)"
   ]
  },
  {
   "cell_type": "markdown",
   "metadata": {},
   "source": [
    "## Regression \n",
    "- From the above analysis the data seems to be very linear thus Regression is a good model to start with.\n",
    "- Discharge Cycles are used for training and testing the model."
   ]
  },
  {
   "cell_type": "code",
   "execution_count": 12,
   "metadata": {},
   "outputs": [],
   "source": [
    "## Data Structure\n",
    "## Cycles[battery][param][cycle]\n",
    "## Cycles[battery][Capacity][cycle]\n",
    "\n",
    "from pprint import pprint\n",
    "\n",
    "Cycles = {}\n",
    "params = ['Temperature_measured', 'Voltage_measured', 'Voltage_load', 'Time']\n",
    "\n",
    "for i in range(len(bs)):\n",
    "    Cycles[bs[i]] = {}\n",
    "    Cycles[bs[i]]['count'] = 168 # This is true for battery B0005, 06, 07\n",
    "    for param in params:\n",
    "        Cycles[bs[i]][param] = []\n",
    "        for j in range(datas[i].size):\n",
    "            if types[i][j] == 'discharge':\n",
    "                Cycles[bs[i]][param].append(datas[i][j][param][0][0][0])\n",
    "        \n",
    "    cap = []\n",
    "    for j in range(datas[i].size):\n",
    "        if types[i][j] == 'discharge':\n",
    "            cap.append(datas[i][j]['Capacity'][0][0][0][0])\n",
    "    Cycles[bs[i]]['Capacity'] = np.array(cap)"
   ]
  },
  {
   "cell_type": "markdown",
   "metadata": {},
   "source": [
    "# Features Extraction\n",
    "\n",
    "- In the given dataset every cycle is represented by set of arrays.\n",
    "- Out of which Temperature, VoltageMeasured, VoltageLoad seems to best describe the cycle\n",
    "- These values are measured at different time points which are represented in Time array\n",
    "- Rather than using entire array for training we can extract **critical time points for each of the features** and train the model on these **critical time points**\n",
    "- Only using these **critical points** will reduce the training time and reduce the noise in data\n",
    "\n",
    "## Critical Points for a given cycle\n",
    "**TEMPERATURE_MEASURED**\n",
    "- Time at highest temperature\n",
    "  \n",
    "  \n",
    "**VOLTAGE_MEASURED**\n",
    "- Time at lowest Voltage\n",
    "  \n",
    "**VOLTAGE_LOAD**\n",
    "- First time it drops below 1 volt after 1500 time"
   ]
  },
  {
   "cell_type": "code",
   "execution_count": 13,
   "metadata": {},
   "outputs": [],
   "source": [
    "## CRITICAL TIME POINTS FOR A CYCLE\n",
    "## We will only these critical points for furthur training\n",
    "\n",
    "## TEMPERATURE_MEASURED\n",
    "## => Time at highest temperature\n",
    "\n",
    "## VOLTAGE_MEASURED\n",
    "## => Time at lowest Voltage\n",
    "\n",
    "## VOLTAGE_LOAD\n",
    "## => First time it drops below 1 volt after 1500 time\n",
    "\n",
    "\n",
    "def getTemperatureMeasuredCritical(tm, time):\n",
    "    high = 0\n",
    "    critical = 0\n",
    "    for i in range(len(tm)):\n",
    "        if (tm[i] > high):\n",
    "            high = tm[i]\n",
    "            critical = time[i]\n",
    "    return critical\n",
    "\n",
    "def getVoltageMeasuredCritical(vm, time):\n",
    "    low = 1e9\n",
    "    critical = 0\n",
    "    for i in range(len(vm)):\n",
    "        if (vm[i] < low):\n",
    "            low = vm[i]\n",
    "            critical = time[i]\n",
    "    return critical\n",
    "\n",
    "def getVoltageLoadCritical(vl, time):\n",
    "    for i in range(len(vl)):\n",
    "        if (time[i] > 1500 and vl[i] < 1):\n",
    "            return time[i]\n",
    "    return -1"
   ]
  },
  {
   "cell_type": "code",
   "execution_count": 14,
   "metadata": {},
   "outputs": [
    {
     "name": "stdout",
     "output_type": "stream",
     "text": [
      "Temperature_Measured Critical points\n",
      "First Cycle:\t3366.781\n",
      "100th Cycle:\t2682.156\n",
      "Last Cycle:\t2393.578\n"
     ]
    }
   ],
   "source": [
    "# First Cycle\n",
    "f = getTemperatureMeasuredCritical(Cycles[bs[0]]['Temperature_measured'][0], Cycles[bs[0]]['Time'][0])\n",
    "\n",
    "# 100th Cycle\n",
    "m = getTemperatureMeasuredCritical(Cycles[bs[0]]['Temperature_measured'][100], Cycles[bs[0]]['Time'][100])\n",
    "\n",
    "# Last Cycle\n",
    "l = getTemperatureMeasuredCritical(Cycles[bs[0]]['Temperature_measured'][167], Cycles[bs[0]]['Time'][167])\n",
    "\n",
    "print(f'Temperature_Measured Critical points')\n",
    "print(f'First Cycle:\\t{f}')\n",
    "print(f'100th Cycle:\\t{m}')\n",
    "print(f'Last Cycle:\\t{l}')\n",
    "\n",
    "## Conclusion\n",
    "## !!BATTERY GET HOT QUICKER as they AGE!!"
   ]
  },
  {
   "cell_type": "code",
   "execution_count": 15,
   "metadata": {},
   "outputs": [
    {
     "name": "stdout",
     "output_type": "stream",
     "text": [
      "Voltage_measured Critical points\n",
      "First Cycle:\t3346.937\n",
      "100th Cycle:\t2662.828\n",
      "Last Cycle:\t2383.953\n"
     ]
    }
   ],
   "source": [
    "# First Cycle\n",
    "f = getVoltageMeasuredCritical(Cycles[bs[0]]['Voltage_measured'][0], Cycles[bs[0]]['Time'][0])\n",
    "\n",
    "# 100th Cycle\n",
    "m = getVoltageMeasuredCritical(Cycles[bs[0]]['Voltage_measured'][100], Cycles[bs[0]]['Time'][100])\n",
    "\n",
    "# Last Cycle\n",
    "l = getVoltageMeasuredCritical(Cycles[bs[0]]['Voltage_measured'][167], Cycles[bs[0]]['Time'][167])\n",
    "\n",
    "print(f'Voltage_measured Critical points')\n",
    "print(f'First Cycle:\\t{f}')\n",
    "print(f'100th Cycle:\\t{m}')\n",
    "print(f'Last Cycle:\\t{l}')\n",
    "\n",
    "## Conclusion\n",
    "## !!VOLTAGE HOLDS FOR LESS TIME as they AGE!!"
   ]
  },
  {
   "cell_type": "code",
   "execution_count": 16,
   "metadata": {},
   "outputs": [
    {
     "name": "stdout",
     "output_type": "stream",
     "text": [
      "Voltage_load Critical points\n",
      "First Cycle:\t3366.781\n",
      "100th Cycle:\t2672.515\n",
      "Last Cycle:\t2393.578\n"
     ]
    }
   ],
   "source": [
    "# First Cycle\n",
    "f = getVoltageLoadCritical(Cycles[bs[0]]['Voltage_load'][0], Cycles[bs[0]]['Time'][0])\n",
    "\n",
    "# 100th Cycle\n",
    "m = getVoltageLoadCritical(Cycles[bs[0]]['Voltage_load'][100], Cycles[bs[0]]['Time'][100])\n",
    "\n",
    "# Last Cycle\n",
    "l = getVoltageLoadCritical(Cycles[bs[0]]['Voltage_load'][167], Cycles[bs[0]]['Time'][167])\n",
    "\n",
    "print(f'Voltage_load Critical points')\n",
    "print(f'First Cycle:\\t{f}')\n",
    "print(f'100th Cycle:\\t{m}')\n",
    "print(f'Last Cycle:\\t{l}')\n",
    "\n",
    "## Conclusion\n",
    "## !!VOLTAGE HOLDS FOR LESS TIME as they AGE!!"
   ]
  },
  {
   "cell_type": "code",
   "execution_count": 17,
   "metadata": {},
   "outputs": [],
   "source": [
    "temperature_measured = []\n",
    "voltage_measured = []\n",
    "voltage_load = []\n",
    "capacity = Cycles[bs[0]]['Capacity']\n",
    "\n",
    "for i in range(Cycles[bs[0]]['count']):\n",
    "    temperature_measured.append(getTemperatureMeasuredCritical(Cycles[bs[0]]['Temperature_measured'][i], Cycles[bs[0]]['Time'][i]))\n",
    "    voltage_measured.append(getVoltageMeasuredCritical(Cycles[bs[0]]['Voltage_measured'][i], Cycles[bs[0]]['Time'][i]))\n",
    "    voltage_load.append(getVoltageLoadCritical(Cycles[bs[0]]['Voltage_load'][i], Cycles[bs[0]]['Time'][i]))"
   ]
  },
  {
   "cell_type": "code",
   "execution_count": 36,
   "metadata": {
    "scrolled": true
   },
   "outputs": [],
   "source": [
    "## Plotting (Critical Points) v/s (Cycles)\n",
    "\n",
    "fig, axs = plt.subplots(2, 2)\n",
    "axs[0, 0].plot(range(1, len(temperature_measured) + 1), temperature_measured)\n",
    "axs[0, 0].set(ylabel = \"Critical Point ($T_{TM}$)\", xlabel = 'Cycle')\n",
    "\n",
    "axs[0, 1].plot(range(1, len(voltage_measured) + 1), voltage_measured)\n",
    "axs[0, 1].set(ylabel = 'Critical Point ($T_{VM}$)', xlabel = 'Cycle')\n",
    "\n",
    "axs[1, 0].plot(range(1, len(voltage_load) + 1), voltage_load)\n",
    "axs[1, 0].set(ylabel = 'Critical Point ($T_{VL}$)', xlabel = 'Cycle')\n",
    "\n",
    "axs[1, 1].plot(range(1, len(voltage_measured) + 1), capacity)\n",
    "axs[1, 1].set(ylabel = 'Capacity ($C_{C}$)', xlabel = 'Cycle')\n",
    "\n",
    "fig.tight_layout(pad = 0.5)"
   ]
  },
  {
   "cell_type": "markdown",
   "metadata": {},
   "source": [
    "## Training Regression Model"
   ]
  },
  {
   "cell_type": "code",
   "execution_count": 14,
   "metadata": {},
   "outputs": [],
   "source": [
    "X = []\n",
    "for i in range(Cycles[bs[0]]['count']):\n",
    "    X.append(np.array([temperature_measured[i], voltage_measured[i], voltage_load[i]]))\n",
    "X = np.array(X)\n",
    "y = np.array(capacity)"
   ]
  },
  {
   "cell_type": "code",
   "execution_count": 15,
   "metadata": {},
   "outputs": [],
   "source": [
    "from sklearn.model_selection import train_test_split\n",
    "X_train, X_test, y_train, y_test = train_test_split(X, y, test_size = 0.25, random_state = 0)"
   ]
  },
  {
   "cell_type": "code",
   "execution_count": 16,
   "metadata": {},
   "outputs": [
    {
     "data": {
      "text/plain": [
       "LinearRegression(copy_X=True, fit_intercept=True, n_jobs=None, normalize=False)"
      ]
     },
     "execution_count": 16,
     "metadata": {},
     "output_type": "execute_result"
    }
   ],
   "source": [
    "from sklearn.linear_model import LinearRegression\n",
    "regressor = LinearRegression()\n",
    "regressor.fit(X_train, y_train)"
   ]
  },
  {
   "cell_type": "code",
   "execution_count": 77,
   "metadata": {},
   "outputs": [],
   "source": [
    "y_pred = regressor.predict(X_test)"
   ]
  },
  {
   "cell_type": "code",
   "execution_count": 17,
   "metadata": {
    "scrolled": true
   },
   "outputs": [],
   "source": [
    "# for i in range(len(y_test)):\n",
    "#     print(f'Real:\\t\\t{y_test[i]}')\n",
    "#     print(f'Predicted:\\t{y_pred[i]}')\n",
    "#     print(f'Difference:\\t{(y_test[i] - y_pred[i])}')\n",
    "#     print()"
   ]
  },
  {
   "cell_type": "code",
   "execution_count": 89,
   "metadata": {},
   "outputs": [
    {
     "name": "stdout",
     "output_type": "stream",
     "text": [
      "Average Difference Between Predicted and Real Capacities: 0.0001504458509620327\n",
      "Accuracy: 99.9903768373228\n"
     ]
    }
   ],
   "source": [
    "diff = 0\n",
    "total = 0\n",
    "for i in range(len(y_test)):\n",
    "    diff += abs(y_test[i] - y_pred[i])\n",
    "    total += y_test[i]\n",
    "diff /= len(y_test)\n",
    "total /= len(y_test)\n",
    "accuracy = ((total - diff) / total) * 100\n",
    "print(f'Average Difference Between Predicted and Real Capacities: {diff}')\n",
    "print(f'Accuracy: {accuracy}')"
   ]
  },
  {
   "cell_type": "markdown",
   "metadata": {},
   "source": [
    "## Conclusion\n",
    "* Using Dataset from 1 battery 005\n",
    "* **75%** of discharge cycles are used as training data\n",
    "* **25%** of discharge cycles are used as testing data\n",
    "* Accuracy Obtained **99.9903768373228**\n",
    "* Average difference between Predicted and Real Capacity **0.0001504458509620327**"
   ]
  },
  {
   "cell_type": "markdown",
   "metadata": {},
   "source": [
    "## Regression Model 2\n",
    "* Using battery 005, 006 and 007\n",
    "* Using multiple battries to get an proper effectiveness of the model"
   ]
  },
  {
   "cell_type": "code",
   "execution_count": 38,
   "metadata": {},
   "outputs": [],
   "source": [
    "temperature_measured = []\n",
    "voltage_measured = []\n",
    "voltage_load = []\n",
    "capacity = []\n",
    "\n",
    "for b in bs:\n",
    "    for c in Cycles[b]['Capacity']:\n",
    "        capacity.append(c)\n",
    "\n",
    "for _ in range(len(bs)):\n",
    "    for i in range(Cycles[bs[_]]['count']):\n",
    "        temperature_measured.append(getTemperatureMeasuredCritical(Cycles[bs[_]]['Temperature_measured'][i], Cycles[bs[_]]['Time'][i]))\n",
    "        voltage_measured.append(getVoltageMeasuredCritical(Cycles[bs[_]]['Voltage_measured'][i], Cycles[bs[_]]['Time'][i]))\n",
    "        voltage_load.append(getVoltageLoadCritical(Cycles[bs[_]]['Voltage_load'][i], Cycles[bs[_]]['Time'][i]))"
   ]
  },
  {
   "cell_type": "markdown",
   "metadata": {},
   "source": [
    "## Training the Model"
   ]
  },
  {
   "cell_type": "code",
   "execution_count": 39,
   "metadata": {},
   "outputs": [
    {
     "data": {
      "text/plain": [
       "LinearRegression(copy_X=True, fit_intercept=True, n_jobs=None, normalize=False)"
      ]
     },
     "execution_count": 39,
     "metadata": {},
     "output_type": "execute_result"
    }
   ],
   "source": [
    "X = []\n",
    "for i in range(len(temperature_measured)):\n",
    "    X.append(np.array([temperature_measured[i], voltage_measured[i], voltage_load[i]]))\n",
    "X = np.array(X)\n",
    "y = np.array(capacity)\n",
    "\n",
    "from sklearn.model_selection import train_test_split\n",
    "X_train, X_test, y_train, y_test = train_test_split(X, y, test_size = 0.25, random_state = 0)\n",
    "\n",
    "regressor = LinearRegression()\n",
    "regressor.fit(X_train, y_train)"
   ]
  },
  {
   "cell_type": "markdown",
   "metadata": {},
   "source": [
    "## Prediction and Analysis"
   ]
  },
  {
   "cell_type": "code",
   "execution_count": 40,
   "metadata": {},
   "outputs": [],
   "source": [
    "y_pred = regressor.predict(X_test)"
   ]
  },
  {
   "cell_type": "code",
   "execution_count": 41,
   "metadata": {},
   "outputs": [
    {
     "name": "stdout",
     "output_type": "stream",
     "text": [
      "Average Difference Between Predicted and Real Capacities: 0.013404734961093144\n",
      "Accuracy: 99.15812921489568\n"
     ]
    }
   ],
   "source": [
    "diff = 0\n",
    "total = 0\n",
    "for i in range(len(y_test)):\n",
    "    diff += abs(y_test[i] - y_pred[i])\n",
    "    total += y_test[i]\n",
    "diff /= len(y_test)\n",
    "total /= len(y_test)\n",
    "accuracy = ((total - diff) / total) * 100\n",
    "print(f'Average Difference Between Predicted and Real Capacities: {diff}')\n",
    "print(f'Accuracy: {accuracy}')"
   ]
  },
  {
   "cell_type": "markdown",
   "metadata": {},
   "source": [
    "## Conclusion\n",
    "* Using Dataset from 3 batteries 005, 006 and 007\n",
    "* A new dataset was fromed by mixing cycles from this battries\n",
    "* **75%** of discharge cycles are used as training data\n",
    "* **25%** of discharge cycles are used as testing data\n",
    "* Accuracy Obtained **99.15812921489568**\n",
    "* Average difference between Predicted and Real Capacity **0.013404734961093144**"
   ]
  },
  {
   "cell_type": "markdown",
   "metadata": {},
   "source": [
    "## Final Conclusion and effectiveness of the model\n",
    "* When multiple battries are considered simultaneously for training and testing the model yields an accuracy of **99.15812921489568**"
   ]
  },
  {
   "cell_type": "code",
   "execution_count": null,
   "metadata": {},
   "outputs": [],
   "source": []
  }
 ],
 "metadata": {
  "kernelspec": {
   "display_name": "Python 3",
   "language": "python",
   "name": "python3"
  },
  "language_info": {
   "codemirror_mode": {
    "name": "ipython",
    "version": 3
   },
   "file_extension": ".py",
   "mimetype": "text/x-python",
   "name": "python",
   "nbconvert_exporter": "python",
   "pygments_lexer": "ipython3",
   "version": "3.8.5"
  }
 },
 "nbformat": 4,
 "nbformat_minor": 4
}
