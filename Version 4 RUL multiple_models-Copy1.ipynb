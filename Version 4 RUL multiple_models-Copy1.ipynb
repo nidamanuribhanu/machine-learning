{
 "cells": [
  {
   "cell_type": "markdown",
   "metadata": {},
   "source": [
    "## Version 03 -> Pred RUL"
   ]
  },
  {
   "cell_type": "code",
   "execution_count": 1,
   "metadata": {},
   "outputs": [
    {
     "name": "stdout",
     "output_type": "stream",
     "text": [
      "Requirement already satisfied: texttable in /home/yash/anaconda3/lib/python3.8/site-packages (1.6.3)\n",
      "3.8.5\n"
     ]
    }
   ],
   "source": [
    "!pip install texttable\n",
    "from platform import python_version\n",
    "print(python_version())"
   ]
  },
  {
   "cell_type": "code",
   "execution_count": 2,
   "metadata": {},
   "outputs": [
    {
     "name": "stdout",
     "output_type": "stream",
     "text": [
      "{132: ['B0018'], 168: ['B0005', 'B0006', 'B0007']}\n"
     ]
    }
   ],
   "source": [
    "# importing required libraries\n",
    "from scipy.io import loadmat\n",
    "import matplotlib.pyplot as plt\n",
    "import numpy as np\n",
    "from pprint import pprint as pp\n",
    "from sklearn.pipeline import make_pipeline\n",
    "from sklearn.preprocessing import StandardScaler\n",
    "from sklearn.model_selection import train_test_split\n",
    "from pprint import pprint\n",
    "from sklearn.linear_model import LinearRegression, Ridge, Lasso, BayesianRidge, ARDRegression, SGDRegressor\n",
    "from texttable import Texttable\n",
    "import math\n",
    "from sklearn.metrics import r2_score\n",
    "\n",
    "# getting the battery data\n",
    "# bs_all = [\n",
    "#     'B0005', 'B0006', 'B0007', 'B0018', 'B0025', 'B0026', 'B0027', 'B0028', 'B0029', 'B0030', 'B0031', 'B0032', \n",
    "#     'B0042', 'B0043', 'B0044', 'B0045', 'B0046', \n",
    "#     'B0047', 'B0048'\n",
    "# ]\n",
    "bs_all = [\n",
    "    'B0005', 'B0006', 'B0007', 'B0018'\n",
    "]\n",
    "ds = {}\n",
    "for b in bs_all:\n",
    "    ds[b] = loadmat(f'DATA/{b}.mat')\n",
    "    \n",
    "types = {}\n",
    "times = {}\n",
    "ambient_temperatures = {}\n",
    "datas = {}\n",
    "\n",
    "for b in bs_all:\n",
    "    x = ds[b][b][\"cycle\"][0][0][0]\n",
    "    ambient_temperatures[b] = x['ambient_temperature']\n",
    "    types[b] = x['type']\n",
    "    times[b] = x['time']\n",
    "    datas[b] = x['data']\n",
    "\n",
    "# clubbing all the compatible batteries together\n",
    "# Batteries are compatible if they were recorded under similar conditions\n",
    "# And their data size match up\n",
    "bs_compt = {}\n",
    "\n",
    "for b in bs_all:\n",
    "    sz = 0\n",
    "    for j in range(datas[b].size):\n",
    "        if types[b][j] == 'discharge':\n",
    "            sz += 1\n",
    "    if bs_compt.get(sz):\n",
    "        bs_compt[sz].append(b)\n",
    "    else: \n",
    "        bs_compt[sz] = [ b ]\n",
    "pp(bs_compt)\n",
    "BSSS = bs_compt"
   ]
  },
  {
   "cell_type": "code",
   "execution_count": 3,
   "metadata": {},
   "outputs": [],
   "source": [
    "## CRITICAL TIME POINTS FOR A CYCLE\n",
    "## We will only these critical points for furthur training\n",
    "\n",
    "## TEMPERATURE_MEASURED\n",
    "## => Time at highest temperature\n",
    "\n",
    "## VOLTAGE_MEASURED\n",
    "## => Time at lowest Voltage\n",
    "\n",
    "## VOLTAGE_LOAD\n",
    "## => First time it drops below 1 volt after 1500 time\n",
    "\n",
    "def getTemperatureMeasuredCritical(tm, time):\n",
    "    high = 0\n",
    "    critical = 0\n",
    "    for i in range(len(tm)):\n",
    "        if (tm[i] > high):\n",
    "            high = tm[i]\n",
    "            critical = time[i]\n",
    "    return critical\n",
    "\n",
    "def getVoltageMeasuredCritical(vm, time):\n",
    "    low = 1e9\n",
    "    critical = 0\n",
    "    for i in range(len(vm)):\n",
    "        if (vm[i] < low):\n",
    "            low = vm[i]\n",
    "            critical = time[i]\n",
    "    return critical\n",
    "\n",
    "def getVoltageLoadCritical(vl, time):\n",
    "    for i in range(len(vl)):\n",
    "        if (time[i] > 1500 and vl[i] < 1):\n",
    "            return time[i]\n",
    "    return -1"
   ]
  },
  {
   "cell_type": "markdown",
   "metadata": {},
   "source": [
    "## MODEL\n",
    "* Considering 1 Cycle for RUL estimation\n",
    "\n",
    "## Features\n",
    "* [CP1, CP2, CP3, Capacity] -> RUL\n",
    "\n",
    "## Remaining Useful Life\n",
    "* n = number of cycles above threshold\n",
    "* RUL of Battery after (cycle x) = (1 - (x / n)) * 100"
   ]
  },
  {
   "cell_type": "code",
   "execution_count": 4,
   "metadata": {},
   "outputs": [],
   "source": [
    "## X: Features\n",
    "## y: RUL\n",
    "## x: no. of cycles to merge\n",
    "def merge(X, y, x):\n",
    "    XX = []\n",
    "    yy = []\n",
    "    \n",
    "    sz = len(X)\n",
    "    for i in range(sz - x + 1):\n",
    "        curr = []\n",
    "        for j in range(x):\n",
    "            for a in X[i + j]:\n",
    "                curr.append(a)\n",
    "        XX.append(curr)\n",
    "#         val = 0\n",
    "#         for j in range(x):\n",
    "#             val += y[i + j]\n",
    "#         val /= x\n",
    "        yy.append(y[i + x - 1])\n",
    "        \n",
    "    return XX, yy"
   ]
  },
  {
   "cell_type": "code",
   "execution_count": 5,
   "metadata": {},
   "outputs": [],
   "source": [
    "## Data Structure\n",
    "    # Cycles[battery][param][cycle]\n",
    "    # Cycles[battery][Capacity][cycle]\n",
    "\n",
    "Cycles = {}\n",
    "params = ['Temperature_measured', 'Voltage_measured', 'Voltage_load', 'Time']\n",
    "\n",
    "rmses = []\n",
    "\n",
    "for bs_cmpt in bs_compt:\n",
    "    rmses.append([])\n",
    "\n",
    "# iterate over the merge hyper parameter\n",
    "for xx in range(1, 10):\n",
    "\n",
    "    results = Texttable()\n",
    "    results.add_row(['Compatible Batteries', 'Cycles', 'MAE', 'RMSE', 'R2 Score' ])\n",
    "    \n",
    "    loc = 0\n",
    "    \n",
    "    # iterate over all the battery sets\n",
    "    for bs_cmpt in bs_compt:\n",
    "        # getting data for a given set\n",
    "\n",
    "        # y contains RUL after current cycle\n",
    "        # model will train for y\n",
    "        y = []\n",
    "\n",
    "        bs = bs_compt[bs_cmpt]\n",
    "        for b in bs:\n",
    "            Cycles[b] = {}\n",
    "            for param in params:\n",
    "                Cycles[b][param] = []\n",
    "                for j in range(datas[b].size):\n",
    "                    if types[b][j] == 'discharge':\n",
    "                        Cycles[b][param].append(datas[b][j][param][0][0][0])\n",
    "\n",
    "            cap = []\n",
    "            for j in range(datas[b].size):\n",
    "                if types[b][j] == 'discharge':\n",
    "                    cap.append(datas[b][j]['Capacity'][0][0][0][0])\n",
    "            Cycles[b]['Capacity'] = np.array(cap)\n",
    "            Cycles[b]['count'] = len(Cycles[b][params[0]])\n",
    "\n",
    "            effective_cycle_count = 0\n",
    "            for x in Cycles[b]['Capacity']:\n",
    "                if (x < 1.4):\n",
    "                    break\n",
    "                effective_cycle_count += 1\n",
    "\n",
    "            for i in range(len(Cycles[b]['Capacity'])):\n",
    "                if (i < effective_cycle_count):\n",
    "                    y.append((1 - ((i + 1) / effective_cycle_count)) * 100)\n",
    "                else:\n",
    "                    y.append(0)\n",
    "\n",
    "        # preparing data for regression model\n",
    "        temperature_measured = []\n",
    "        voltage_measured = []\n",
    "        voltage_load = []\n",
    "        capacity = []\n",
    "\n",
    "        for b in bs:        \n",
    "            for c in Cycles[b]['Capacity']:\n",
    "                capacity.append(c)\n",
    "            for i in range(Cycles[b]['count']):\n",
    "                temperature_measured.append(getTemperatureMeasuredCritical(Cycles[b]['Temperature_measured'][i], Cycles[b]['Time'][i]))\n",
    "                voltage_measured.append(getVoltageMeasuredCritical(Cycles[b]['Voltage_measured'][i], Cycles[b]['Time'][i]))\n",
    "                voltage_load.append(getVoltageLoadCritical(Cycles[b]['Voltage_load'][i], Cycles[b]['Time'][i]))\n",
    "\n",
    "        # creating the model\n",
    "        X = []\n",
    "        for i in range(len(temperature_measured)):\n",
    "            X.append(np.array([temperature_measured[i], voltage_measured[i], voltage_load[i], capacity[i]]))\n",
    "    #     X.append(np.array(capacity))\n",
    "        X = np.array(X)\n",
    "        y = np.array(y)\n",
    "        \n",
    "        # merge cycles\n",
    "        X, y = merge(X, y, xx)\n",
    "\n",
    "        # creating train test split\n",
    "        X_train, X_test, y_train, y_test = train_test_split(X, y, test_size = 0.25, random_state = 0)\n",
    "\n",
    "        # fitting the model\n",
    "        regressor = LinearRegression()\n",
    "        regressor.fit(X_train, y_train)\n",
    "\n",
    "        # test\n",
    "        y_pred = regressor.predict(X_test)\n",
    "\n",
    "        # model evaluation\n",
    "        diff = 0\n",
    "        total = 0\n",
    "        rmse = 0\n",
    "        for i in range(len(y_test)):\n",
    "            diff += abs(y_test[i] - y_pred[i])\n",
    "            rmse += ((y_test[i] - y_pred[i]) * (y_test[i] - y_pred[i]))\n",
    "            total += y_test[i]\n",
    "        diff /= len(y_test)\n",
    "        total /= len(y_test)\n",
    "        rmse = math.sqrt(rmse / len(y_test))\n",
    "    #     accuracy = ((total - diff) / total) * 100\n",
    "        accuracy = r2_score(y_test, y_pred)\n",
    "\n",
    "        # Adding evaluation to result array to print in a table\n",
    "        results.add_row([ str(bs), str(Cycles[bs[0]]['count']), diff, rmse, accuracy ])\n",
    "        \n",
    "        rmses[loc].append(rmse)\n",
    "        loc += 1\n",
    "\n",
    "    # printing results\n",
    "#     print(f'Evaluation: Clubbing Compatible Batteries for cycle param: {xx}\\n{results.draw()}')"
   ]
  },
  {
   "cell_type": "code",
   "execution_count": 6,
   "metadata": {},
   "outputs": [],
   "source": [
    "# print(rmses)"
   ]
  },
  {
   "cell_type": "code",
   "execution_count": 7,
   "metadata": {},
   "outputs": [
    {
     "data": {
      "image/png": "[encoded data removed]",
      "text/plain": [
       "<Figure size 432x288 with 1 Axes>"
      ]
     },
     "metadata": {
      "needs_background": "light"
     },
     "output_type": "display_data"
    },
    {
     "data": {
      "image/png": "[encoded data removed]",
      "text/plain": [
       "<Figure size 432x288 with 1 Axes>"
      ]
     },
     "metadata": {
      "needs_background": "light"
     },
     "output_type": "display_data"
    }
   ],
   "source": [
    "for rm in rmses:\n",
    "    plt.plot(range(1, len(rm) + 1), rm)\n",
    "    plt.ylabel(\"Error\")\n",
    "    plt.show()"
   ]
  },
  {
   "cell_type": "code",
   "execution_count": 8,
   "metadata": {},
   "outputs": [],
   "source": [
    "def removeFromGroup(x):\n",
    "    loc = 0\n",
    "    y = {}\n",
    "    for a in x:\n",
    "        for b in x[a]:\n",
    "            y[loc] = [ b ]\n",
    "            loc += 1\n",
    "    return y"
   ]
  },
  {
   "cell_type": "code",
   "execution_count": 9,
   "metadata": {},
   "outputs": [
    {
     "name": "stdout",
     "output_type": "stream",
     "text": [
      "Requirement already satisfied: scikit-elm in /home/yash/anaconda3/lib/python3.8/site-packages (0.21a0)\n",
      "Requirement already satisfied: scipy in /home/yash/anaconda3/lib/python3.8/site-packages (from scikit-elm) (1.5.2)\n",
      "Requirement already satisfied: scikit-learn in /home/yash/anaconda3/lib/python3.8/site-packages (from scikit-elm) (0.23.2)\n",
      "Requirement already satisfied: numpy in /home/yash/anaconda3/lib/python3.8/site-packages (from scikit-elm) (1.19.2)\n",
      "Requirement already satisfied: threadpoolctl>=2.0.0 in /home/yash/anaconda3/lib/python3.8/site-packages (from scikit-learn->scikit-elm) (2.1.0)\n",
      "Requirement already satisfied: joblib>=0.11 in /home/yash/anaconda3/lib/python3.8/site-packages (from scikit-learn->scikit-elm) (0.17.0)\n",
      "Requirement already up-to-date: pyswarm in /home/yash/anaconda3/lib/python3.8/site-packages (0.6)\n",
      "Requirement already satisfied, skipping upgrade: numpy in /home/yash/anaconda3/lib/python3.8/site-packages (from pyswarm) (1.19.2)\n"
     ]
    }
   ],
   "source": [
    "!pip install scikit-elm\n",
    "!pip install --upgrade pyswarm"
   ]
  },
  {
   "cell_type": "code",
   "execution_count": 15,
   "metadata": {
    "scrolled": false
   },
   "outputs": [
    {
     "name": "stderr",
     "output_type": "stream",
     "text": [
      "\r",
      "  0%|          | 0/40 [00:00<?, ?it/s]"
     ]
    },
    {
     "name": "stdout",
     "output_type": "stream",
     "text": [
      "Stopping search: maximum iterations reached --> 100\n",
      "[  1.         241.17417324]\n",
      "Stopping search: maximum iterations reached --> 100\n",
      "[  1.         654.47252337]\n",
      "Stopping search: maximum iterations reached --> 100\n",
      "[  1.         758.03338547]\n"
     ]
    },
    {
     "name": "stderr",
     "output_type": "stream",
     "text": [
      "\r",
      "  2%|▎         | 1/40 [06:44<4:22:49, 404.35s/it]"
     ]
    },
    {
     "name": "stdout",
     "output_type": "stream",
     "text": [
      "Stopping search: maximum iterations reached --> 100\n",
      "[  1.         463.76677774]\n",
      "Stopping search: maximum iterations reached --> 100\n",
      "[  1.         491.89155856]\n",
      "Stopping search: Swarm best position change less than 1e-08\n",
      "[1.e+05 1.e+01]\n",
      "Stopping search: maximum iterations reached --> 100\n",
      "[  1.         821.53790896]\n"
     ]
    },
    {
     "name": "stderr",
     "output_type": "stream",
     "text": [
      "\r",
      "  5%|▌         | 2/40 [12:14<4:02:03, 382.21s/it]"
     ]
    },
    {
     "name": "stdout",
     "output_type": "stream",
     "text": [
      "Stopping search: maximum iterations reached --> 100\n",
      "[  1.         508.71479191]\n",
      "Stopping search: Swarm best position change less than 1e-08\n",
      "[ 1. 10.]\n",
      "Stopping search: Swarm best position change less than 1e-08\n",
      "[1.e+05 1.e+01]\n",
      "Stopping search: maximum iterations reached --> 100\n",
      "[3.65773170e+04 1.25842888e+01]\n"
     ]
    },
    {
     "name": "stderr",
     "output_type": "stream",
     "text": [
      "\r",
      "  8%|▊         | 3/40 [15:41<3:23:12, 329.54s/it]"
     ]
    },
    {
     "name": "stdout",
     "output_type": "stream",
     "text": [
      "Stopping search: maximum iterations reached --> 100\n",
      "[115.95390337 767.21781795]\n",
      "Stopping search: maximum iterations reached --> 100\n",
      "[ 93.62135941 240.5641288 ]\n",
      "Stopping search: maximum iterations reached --> 100\n",
      "[63322.97960472    79.52687511]\n",
      "Stopping search: maximum iterations reached --> 100\n",
      "[9.64098243e+04 2.03144449e+01]\n"
     ]
    },
    {
     "name": "stderr",
     "output_type": "stream",
     "text": [
      "\r",
      " 10%|█         | 4/40 [17:45<2:40:46, 267.96s/it]"
     ]
    },
    {
     "name": "stdout",
     "output_type": "stream",
     "text": [
      "Stopping search: maximum iterations reached --> 100\n",
      "[  1.         190.48187795]\n",
      "Stopping search: maximum iterations reached --> 100\n",
      "[  1.         319.62759194]\n",
      "Stopping search: maximum iterations reached --> 100\n",
      "[9.20144576e+04 1.67587308e+01]\n",
      "Stopping search: maximum iterations reached --> 100\n",
      "[5.43956988e+04 1.87513481e+01]\n"
     ]
    },
    {
     "name": "stderr",
     "output_type": "stream",
     "text": [
      "\r",
      " 12%|█▎        | 5/40 [19:38<2:09:04, 221.27s/it]"
     ]
    },
    {
     "name": "stdout",
     "output_type": "stream",
     "text": [
      "Stopping search: Swarm best position change less than 1e-08\n",
      "[   1. 1000.]\n",
      "Stopping search: maximum iterations reached --> 100\n",
      "[214.92208918 176.20256591]\n",
      "Stopping search: maximum iterations reached --> 100\n",
      "[9.95388213e+04 2.40869760e+01]\n",
      "Stopping search: maximum iterations reached --> 100\n",
      "[7.10083819e+04 2.12364125e+01]\n"
     ]
    },
    {
     "name": "stderr",
     "output_type": "stream",
     "text": [
      "\r",
      " 15%|█▌        | 6/40 [22:33<1:57:32, 207.43s/it]"
     ]
    },
    {
     "name": "stdout",
     "output_type": "stream",
     "text": [
      "Stopping search: maximum iterations reached --> 100\n",
      "[  1.         576.63512424]\n",
      "Stopping search: maximum iterations reached --> 100\n",
      "[268.29506378 823.47290569]\n",
      "Stopping search: maximum iterations reached --> 100\n",
      "[8.20912476e+04 1.49441270e+01]\n",
      "Stopping search: maximum iterations reached --> 100\n",
      "[5338.25327994  400.77230459]\n"
     ]
    },
    {
     "name": "stderr",
     "output_type": "stream",
     "text": [
      "\r",
      " 18%|█▊        | 7/40 [28:35<2:19:38, 253.88s/it]"
     ]
    },
    {
     "name": "stdout",
     "output_type": "stream",
     "text": [
      "Stopping search: maximum iterations reached --> 100\n",
      "[  1.         421.21745823]\n",
      "Stopping search: maximum iterations reached --> 100\n",
      "[256.58846144 303.10143634]\n",
      "Stopping search: maximum iterations reached --> 100\n",
      "[8.67956862e+04 2.40366523e+01]\n",
      "Stopping search: maximum iterations reached --> 100\n",
      "[61944.58381592   232.73381352]\n"
     ]
    },
    {
     "name": "stderr",
     "output_type": "stream",
     "text": [
      "\r",
      " 20%|██        | 8/40 [32:11<2:09:19, 242.49s/it]"
     ]
    },
    {
     "name": "stdout",
     "output_type": "stream",
     "text": [
      "Stopping search: maximum iterations reached --> 100\n",
      "[  1.         599.80719006]\n",
      "Stopping search: maximum iterations reached --> 100\n",
      "[448.98833767 711.98524116]\n",
      "Stopping search: maximum iterations reached --> 100\n",
      "[96033.47180724   315.46464995]\n",
      "Stopping search: maximum iterations reached --> 100\n",
      "[50445.4164644    338.07879341]\n"
     ]
    },
    {
     "name": "stderr",
     "output_type": "stream",
     "text": [
      "\r",
      " 22%|██▎       | 9/40 [37:20<2:15:33, 262.37s/it]"
     ]
    },
    {
     "name": "stdout",
     "output_type": "stream",
     "text": [
      "Stopping search: maximum iterations reached --> 100\n",
      "[  1.         269.67330066]\n",
      "Stopping search: maximum iterations reached --> 100\n",
      "[308.301603   590.61957522]\n",
      "Stopping search: maximum iterations reached --> 100\n",
      "[6.33090010e+04 4.30733126e+01]\n",
      "Stopping search: maximum iterations reached --> 100\n",
      "[66350.98971252   118.67230847]\n"
     ]
    },
    {
     "name": "stderr",
     "output_type": "stream",
     "text": [
      "\r",
      " 25%|██▌       | 10/40 [41:34<2:09:57, 259.91s/it]"
     ]
    },
    {
     "name": "stdout",
     "output_type": "stream",
     "text": [
      "Stopping search: maximum iterations reached --> 100\n",
      "[  1.         505.48297631]\n",
      "Stopping search: maximum iterations reached --> 100\n",
      "[69.30728405 86.5543112 ]\n",
      "Stopping search: maximum iterations reached --> 100\n",
      "[41374.7914552     47.81670356]\n",
      "Stopping search: maximum iterations reached --> 100\n",
      "[40132.53132223   203.57817194]\n"
     ]
    },
    {
     "name": "stderr",
     "output_type": "stream",
     "text": [
      "\r",
      " 28%|██▊       | 11/40 [43:53<1:48:05, 223.65s/it]"
     ]
    },
    {
     "name": "stdout",
     "output_type": "stream",
     "text": [
      "Stopping search: maximum iterations reached --> 100\n",
      "[6.20256000e+04 3.77518983e+01]\n",
      "Stopping search: maximum iterations reached --> 100\n",
      "[  1.        499.2079841]\n",
      "Stopping search: maximum iterations reached --> 100\n",
      "[58836.06645456   243.9455528 ]\n",
      "Stopping search: maximum iterations reached --> 100\n",
      "[91799.26474941   201.89455885]\n"
     ]
    },
    {
     "name": "stderr",
     "output_type": "stream",
     "text": [
      "\r",
      " 30%|███       | 12/40 [48:42<1:53:32, 243.29s/it]"
     ]
    },
    {
     "name": "stdout",
     "output_type": "stream",
     "text": [
      "Stopping search: maximum iterations reached --> 100\n",
      "[  1.         608.63836236]\n",
      "Stopping search: maximum iterations reached --> 100\n",
      "[  1.         217.07300556]\n",
      "Stopping search: maximum iterations reached --> 100\n",
      "[5.85520651e+04 5.46593436e+01]\n",
      "Stopping search: maximum iterations reached --> 100\n",
      "[85066.51729799   963.34445157]\n"
     ]
    },
    {
     "name": "stderr",
     "output_type": "stream",
     "text": [
      "\r",
      " 32%|███▎      | 13/40 [55:29<2:11:31, 292.26s/it]"
     ]
    },
    {
     "name": "stdout",
     "output_type": "stream",
     "text": [
      "Stopping search: maximum iterations reached --> 100\n",
      "[  1.        260.8912159]\n",
      "Stopping search: maximum iterations reached --> 100\n",
      "[  1.         199.96434264]\n",
      "Stopping search: maximum iterations reached --> 100\n",
      "[94675.55660884   301.17537854]\n",
      "Stopping search: maximum iterations reached --> 100\n",
      "[100000.            730.46950423]\n"
     ]
    },
    {
     "name": "stderr",
     "output_type": "stream",
     "text": [
      "\r",
      " 35%|███▌      | 14/40 [1:01:38<2:16:38, 315.34s/it]"
     ]
    },
    {
     "name": "stdout",
     "output_type": "stream",
     "text": [
      "Stopping search: maximum iterations reached --> 100\n",
      "[  1.         616.65430248]\n",
      "Stopping search: maximum iterations reached --> 100\n",
      "[  1.         195.65822554]\n",
      "Stopping search: maximum iterations reached --> 100\n",
      "[94723.11997121   173.97937874]\n",
      "Stopping search: maximum iterations reached --> 100\n",
      "[89946.89155109   944.34403199]\n"
     ]
    },
    {
     "name": "stderr",
     "output_type": "stream",
     "text": [
      "\r",
      " 38%|███▊      | 15/40 [1:08:37<2:24:21, 346.47s/it]"
     ]
    },
    {
     "name": "stdout",
     "output_type": "stream",
     "text": [
      "Stopping search: maximum iterations reached --> 100\n",
      "[  1.         250.89259698]\n",
      "Stopping search: maximum iterations reached --> 100\n",
      "[ 51.86700525 781.3834172 ]\n",
      "Stopping search: maximum iterations reached --> 100\n",
      "[5.37977136e+04 3.93128290e+01]\n",
      "Stopping search: maximum iterations reached --> 100\n",
      "[44334.03573989   409.99073156]\n"
     ]
    },
    {
     "name": "stderr",
     "output_type": "stream",
     "text": [
      "\r",
      " 40%|████      | 16/40 [1:13:49<2:14:26, 336.10s/it]"
     ]
    },
    {
     "name": "stdout",
     "output_type": "stream",
     "text": [
      "Stopping search: maximum iterations reached --> 100\n",
      "[5.80584442e+04 1.62767758e+01]\n",
      "Stopping search: maximum iterations reached --> 100\n",
      "[147.05427847 423.88331786]\n",
      "Stopping search: maximum iterations reached --> 100\n",
      "[8.54612490e+04 6.60477416e+01]\n",
      "Stopping search: maximum iterations reached --> 100\n",
      "[80425.04529221   750.91134884]\n"
     ]
    },
    {
     "name": "stderr",
     "output_type": "stream",
     "text": [
      "\r",
      " 42%|████▎     | 17/40 [1:21:24<2:22:35, 371.96s/it]"
     ]
    },
    {
     "name": "stdout",
     "output_type": "stream",
     "text": [
      "Stopping search: maximum iterations reached --> 100\n",
      "[  1.         474.62130987]\n",
      "Stopping search: maximum iterations reached --> 100\n",
      "[395.9081183  731.39952547]\n",
      "Stopping search: maximum iterations reached --> 100\n",
      "[76745.91725399    97.13969202]\n",
      "Stopping search: maximum iterations reached --> 100\n",
      "[56219.16500351   453.2719349 ]\n"
     ]
    },
    {
     "name": "stderr",
     "output_type": "stream",
     "text": [
      "\r",
      " 45%|████▌     | 18/40 [1:27:18<2:14:23, 366.53s/it]"
     ]
    },
    {
     "name": "stdout",
     "output_type": "stream",
     "text": [
      "Stopping search: maximum iterations reached --> 100\n",
      "[  1.         241.21196884]\n",
      "Stopping search: maximum iterations reached --> 100\n",
      "[181.98777939 566.3759468 ]\n",
      "Stopping search: maximum iterations reached --> 100\n",
      "[82319.66534839   111.00452436]\n",
      "Stopping search: maximum iterations reached --> 100\n",
      "[53366.90813968   607.1493755 ]\n"
     ]
    },
    {
     "name": "stderr",
     "output_type": "stream",
     "text": [
      "\r",
      " 48%|████▊     | 19/40 [1:33:31<2:08:55, 368.36s/it]"
     ]
    },
    {
     "name": "stdout",
     "output_type": "stream",
     "text": [
      "Stopping search: maximum iterations reached --> 100\n",
      "[  1.         250.39960625]\n",
      "Stopping search: maximum iterations reached --> 100\n",
      "[153.02353165 543.92400163]\n",
      "Stopping search: maximum iterations reached --> 100\n",
      "[90260.56975272   123.16702189]\n",
      "Stopping search: maximum iterations reached --> 100\n",
      "[37531.67783226   361.75337162]\n"
     ]
    },
    {
     "name": "stderr",
     "output_type": "stream",
     "text": [
      "\r",
      " 50%|█████     | 20/40 [1:37:58<1:52:42, 338.12s/it]"
     ]
    },
    {
     "name": "stdout",
     "output_type": "stream",
     "text": [
      "Stopping search: maximum iterations reached --> 100\n",
      "[7.71494161e+04 1.00000000e+01]\n",
      "Stopping search: maximum iterations reached --> 100\n",
      "[182.41238632 481.36901907]\n",
      "Stopping search: maximum iterations reached --> 100\n",
      "[97746.32646895   123.38345426]\n",
      "Stopping search: maximum iterations reached --> 100\n",
      "[50081.53079102   583.60527165]\n"
     ]
    },
    {
     "name": "stderr",
     "output_type": "stream",
     "text": [
      "\r",
      " 52%|█████▎    | 21/40 [1:44:11<1:50:18, 348.36s/it]"
     ]
    },
    {
     "name": "stdout",
     "output_type": "stream",
     "text": [
      "Stopping search: maximum iterations reached --> 100\n",
      "[1687.98227952  507.79634485]\n",
      "Stopping search: maximum iterations reached --> 100\n",
      "[150.91820213 451.47709281]\n",
      "Stopping search: maximum iterations reached --> 100\n",
      "[81767.77866976   208.04636815]\n",
      "Stopping search: maximum iterations reached --> 100\n",
      "[45797.86189061   310.36274688]\n"
     ]
    },
    {
     "name": "stderr",
     "output_type": "stream",
     "text": [
      "\r",
      " 55%|█████▌    | 22/40 [1:50:48<1:48:56, 363.16s/it]"
     ]
    },
    {
     "name": "stdout",
     "output_type": "stream",
     "text": [
      "Stopping search: maximum iterations reached --> 100\n",
      "[  1.         632.02037657]\n",
      "Stopping search: maximum iterations reached --> 100\n",
      "[ 78.9791837  242.06511928]\n",
      "Stopping search: maximum iterations reached --> 100\n",
      "[98053.39052658   401.62786258]\n",
      "Stopping search: maximum iterations reached --> 100\n",
      "[72585.39529677   977.60423662]\n"
     ]
    },
    {
     "name": "stderr",
     "output_type": "stream",
     "text": [
      "\r",
      " 57%|█████▊    | 23/40 [2:01:46<2:07:56, 451.56s/it]"
     ]
    },
    {
     "name": "stdout",
     "output_type": "stream",
     "text": [
      "Stopping search: maximum iterations reached --> 100\n",
      "[5.8677362e+04 1.0000000e+01]\n",
      "Stopping search: maximum iterations reached --> 100\n",
      "[2.96008902e+04 1.49173624e+01]\n",
      "Stopping search: maximum iterations reached --> 100\n",
      "[6.99023062e+04 1.17252877e+01]\n",
      "Stopping search: maximum iterations reached --> 100\n",
      "[72874.1504955    592.64196413]\n"
     ]
    },
    {
     "name": "stderr",
     "output_type": "stream",
     "text": [
      "\r",
      " 60%|██████    | 24/40 [2:08:37<1:57:06, 439.17s/it]"
     ]
    },
    {
     "name": "stdout",
     "output_type": "stream",
     "text": [
      "Stopping search: maximum iterations reached --> 100\n",
      "[37102.84421189    37.97540734]\n",
      "Stopping search: maximum iterations reached --> 100\n",
      "[ 55.50915314 223.98442584]\n",
      "Stopping search: maximum iterations reached --> 100\n",
      "[81277.77987469   260.59561722]\n",
      "Stopping search: maximum iterations reached --> 100\n",
      "[40635.72669016   630.91503222]\n"
     ]
    },
    {
     "name": "stderr",
     "output_type": "stream",
     "text": [
      "\r",
      " 62%|██████▎   | 25/40 [2:16:18<1:51:28, 445.89s/it]"
     ]
    },
    {
     "name": "stdout",
     "output_type": "stream",
     "text": [
      "Stopping search: maximum iterations reached --> 100\n",
      "[7.99361167e+04 2.88826845e+01]\n",
      "Stopping search: maximum iterations reached --> 100\n",
      "[160.44942768 888.24056992]\n",
      "Stopping search: maximum iterations reached --> 100\n",
      "[90735.77697163   558.84092351]\n",
      "Stopping search: maximum iterations reached --> 100\n",
      "[54787.01629187   611.44168184]\n"
     ]
    },
    {
     "name": "stderr",
     "output_type": "stream",
     "text": [
      "\r",
      " 65%|██████▌   | 26/40 [2:29:27<2:08:03, 548.84s/it]"
     ]
    },
    {
     "name": "stdout",
     "output_type": "stream",
     "text": [
      "Stopping search: maximum iterations reached --> 100\n",
      "[ 54.68445036 431.67461427]\n",
      "Stopping search: maximum iterations reached --> 100\n",
      "[4.17137199e+04 1.96458432e+01]\n",
      "Stopping search: maximum iterations reached --> 100\n",
      "[88491.94794881   231.5016125 ]\n",
      "Stopping search: maximum iterations reached --> 100\n",
      "[88087.60979325   531.55124104]\n"
     ]
    },
    {
     "name": "stderr",
     "output_type": "stream",
     "text": [
      "\r",
      " 68%|██████▊   | 27/40 [2:33:42<1:39:48, 460.63s/it]"
     ]
    },
    {
     "name": "stdout",
     "output_type": "stream",
     "text": [
      "Stopping search: maximum iterations reached --> 100\n",
      "[6.86387054e+04 1.28747672e+01]\n",
      "Stopping search: maximum iterations reached --> 100\n",
      "[185.45472042 597.81914237]\n",
      "Stopping search: maximum iterations reached --> 100\n",
      "[98726.21426004   292.86724487]\n",
      "Stopping search: maximum iterations reached --> 100\n",
      "[60475.58853524   592.97611372]\n"
     ]
    },
    {
     "name": "stderr",
     "output_type": "stream",
     "text": [
      "\r",
      " 70%|███████   | 28/40 [2:40:31<1:29:02, 445.24s/it]"
     ]
    },
    {
     "name": "stdout",
     "output_type": "stream",
     "text": [
      "Stopping search: maximum iterations reached --> 100\n",
      "[6.76695091e+04 1.71836907e+01]\n",
      "Stopping search: maximum iterations reached --> 100\n",
      "[207.88364384 567.24695535]\n",
      "Stopping search: maximum iterations reached --> 100\n",
      "[100000.   1000.]\n",
      "Stopping search: maximum iterations reached --> 100\n",
      "[49638.33543837   702.26843472]\n"
     ]
    },
    {
     "name": "stderr",
     "output_type": "stream",
     "text": [
      "\r",
      " 72%|███████▎  | 29/40 [2:52:28<1:36:32, 526.55s/it]"
     ]
    },
    {
     "name": "stdout",
     "output_type": "stream",
     "text": [
      "Stopping search: maximum iterations reached --> 100\n",
      "[6.28891367e+04 2.07412826e+01]\n",
      "Stopping search: maximum iterations reached --> 100\n",
      "[314.82722769 418.30991478]\n",
      "Stopping search: maximum iterations reached --> 100\n",
      "[5.94310980e+04 1.78673402e+01]\n",
      "Stopping search: maximum iterations reached --> 100\n",
      "[43251.10245517  1000.        ]\n"
     ]
    },
    {
     "name": "stderr",
     "output_type": "stream",
     "text": [
      "\r",
      " 75%|███████▌  | 30/40 [3:01:27<1:28:23, 530.33s/it]"
     ]
    },
    {
     "name": "stdout",
     "output_type": "stream",
     "text": [
      "Stopping search: maximum iterations reached --> 100\n",
      "[5.71996752e+04 1.14826202e+01]\n",
      "Stopping search: maximum iterations reached --> 100\n",
      "[ 97.02807453 529.60481067]\n",
      "Stopping search: maximum iterations reached --> 100\n",
      "[95433.83608029   889.84146232]\n",
      "Stopping search: maximum iterations reached --> 100\n",
      "[27936.00160193   444.8676675 ]\n"
     ]
    },
    {
     "name": "stderr",
     "output_type": "stream",
     "text": [
      "\r",
      " 78%|███████▊  | 31/40 [3:10:47<1:20:53, 539.31s/it]"
     ]
    },
    {
     "name": "stdout",
     "output_type": "stream",
     "text": [
      "Stopping search: maximum iterations reached --> 100\n",
      "[9.53907223e+04 1.74756424e+01]\n",
      "Stopping search: maximum iterations reached --> 100\n",
      "[7.26643222e+04 3.77817703e+01]\n",
      "Stopping search: maximum iterations reached --> 100\n",
      "[91543.24418606   545.83949234]\n",
      "Stopping search: maximum iterations reached --> 100\n",
      "[32820.93220607   729.70855206]\n"
     ]
    },
    {
     "name": "stderr",
     "output_type": "stream",
     "text": [
      "\r",
      " 80%|████████  | 32/40 [3:17:48<1:07:11, 503.98s/it]"
     ]
    },
    {
     "name": "stdout",
     "output_type": "stream",
     "text": [
      "Stopping search: maximum iterations reached --> 100\n",
      "[9.31882959e+04 1.22327443e+01]\n",
      "Stopping search: maximum iterations reached --> 100\n",
      "[391.82144485 961.15874495]\n",
      "Stopping search: maximum iterations reached --> 100\n",
      "[91256.54232065   177.3675286 ]\n",
      "Stopping search: maximum iterations reached --> 100\n",
      "[61469.90629707   694.29486353]\n"
     ]
    },
    {
     "name": "stderr",
     "output_type": "stream",
     "text": [
      "\r",
      " 82%|████████▎ | 33/40 [3:27:23<1:01:15, 525.07s/it]"
     ]
    },
    {
     "name": "stdout",
     "output_type": "stream",
     "text": [
      "Stopping search: maximum iterations reached --> 100\n",
      "[7.72659349e+04 2.10673008e+01]\n",
      "Stopping search: maximum iterations reached --> 100\n",
      "[5.68648042e+04 3.17345041e+01]\n",
      "Stopping search: maximum iterations reached --> 100\n",
      "[83712.20181637   104.34014104]\n",
      "Stopping search: maximum iterations reached --> 100\n",
      "[60413.22847573   875.00855838]\n"
     ]
    },
    {
     "name": "stderr",
     "output_type": "stream",
     "text": [
      "\r",
      " 85%|████████▌ | 34/40 [3:34:33<49:39, 496.54s/it]  "
     ]
    },
    {
     "name": "stdout",
     "output_type": "stream",
     "text": [
      "Stopping search: maximum iterations reached --> 100\n",
      "[5.18937202e+04 1.09867074e+01]\n",
      "Stopping search: maximum iterations reached --> 100\n",
      "[1732.43708305  264.91696223]\n",
      "Stopping search: maximum iterations reached --> 100\n",
      "[70131.27961635   501.12123345]\n",
      "Stopping search: maximum iterations reached --> 100\n",
      "[39812.83038951   698.66531899]\n"
     ]
    },
    {
     "name": "stderr",
     "output_type": "stream",
     "text": [
      "\r",
      " 88%|████████▊ | 35/40 [3:41:42<39:41, 476.25s/it]"
     ]
    },
    {
     "name": "stdout",
     "output_type": "stream",
     "text": [
      "Stopping search: maximum iterations reached --> 100\n",
      "[2.28269944e+04 1.43905238e+01]\n",
      "Stopping search: maximum iterations reached --> 100\n",
      "[243.53458777 259.82044525]\n",
      "Stopping search: maximum iterations reached --> 100\n",
      "[64145.78840227   521.09427685]\n",
      "Stopping search: maximum iterations reached --> 100\n",
      "[54794.58733125   737.48210665]\n"
     ]
    },
    {
     "name": "stderr",
     "output_type": "stream",
     "text": [
      "\r",
      " 90%|█████████ | 36/40 [3:49:05<31:05, 466.31s/it]"
     ]
    },
    {
     "name": "stdout",
     "output_type": "stream",
     "text": [
      "Stopping search: maximum iterations reached --> 100\n",
      "[3.46644594e+04 1.00000000e+01]\n",
      "Stopping search: maximum iterations reached --> 100\n",
      "[5.69189648e+04 3.11199031e+01]\n",
      "Stopping search: maximum iterations reached --> 100\n",
      "[99231.99585967   248.85994056]\n",
      "Stopping search: maximum iterations reached --> 100\n",
      "[55532.99242176   814.01611345]\n"
     ]
    },
    {
     "name": "stderr",
     "output_type": "stream",
     "text": [
      "\r",
      " 92%|█████████▎| 37/40 [3:56:00<22:32, 450.96s/it]"
     ]
    },
    {
     "name": "stdout",
     "output_type": "stream",
     "text": [
      "Stopping search: maximum iterations reached --> 100\n",
      "[6.42702230e+04 5.24507872e+01]\n",
      "Stopping search: maximum iterations reached --> 100\n",
      "[7.89930051e+04 4.03144710e+01]\n",
      "Stopping search: maximum iterations reached --> 100\n",
      "[76773.51090111   211.54539933]\n",
      "Stopping search: maximum iterations reached --> 100\n",
      "[87203.68143554   883.03779515]\n"
     ]
    },
    {
     "name": "stderr",
     "output_type": "stream",
     "text": [
      "\r",
      " 95%|█████████▌| 38/40 [4:03:37<15:05, 452.72s/it]"
     ]
    },
    {
     "name": "stdout",
     "output_type": "stream",
     "text": [
      "Stopping search: maximum iterations reached --> 100\n",
      "[4.09779248e+04 1.96444425e+01]\n",
      "Stopping search: maximum iterations reached --> 100\n",
      "[4.9795638e+04 1.0000000e+01]\n",
      "Stopping search: maximum iterations reached --> 100\n",
      "[80052.4176749    384.78212381]\n",
      "Stopping search: maximum iterations reached --> 100\n",
      "[83202.60843312   977.61174059]\n"
     ]
    },
    {
     "name": "stderr",
     "output_type": "stream",
     "text": [
      "\r",
      " 98%|█████████▊| 39/40 [4:12:40<07:59, 479.77s/it]"
     ]
    },
    {
     "name": "stdout",
     "output_type": "stream",
     "text": [
      "Stopping search: maximum iterations reached --> 100\n",
      "[7.07689505e+04 2.79593621e+01]\n",
      "Stopping search: maximum iterations reached --> 100\n",
      "[43923.043915    178.4570475]\n",
      "Stopping search: maximum iterations reached --> 100\n",
      "[96502.4871424    405.80138942]\n",
      "Stopping search: maximum iterations reached --> 100\n",
      "[74330.877782     837.12277996]\n"
     ]
    },
    {
     "name": "stderr",
     "output_type": "stream",
     "text": [
      "100%|██████████| 40/40 [4:20:34<00:00, 390.87s/it]"
     ]
    },
    {
     "name": "stdout",
     "output_type": "stream",
     "text": [
      "Stopping search: maximum iterations reached --> 100\n",
      "[6.71535145e+04 2.98788748e+01]\n"
     ]
    },
    {
     "name": "stderr",
     "output_type": "stream",
     "text": [
      "\n"
     ]
    }
   ],
   "source": [
    "## Data Structure\n",
    "    # Cycles[battery][param][cycle]\n",
    "    # Cycles[battery][Capacity][cycle]\n",
    "\n",
    "from sklearn.ensemble import RandomForestRegressor\n",
    "from tqdm import tqdm    \n",
    "    \n",
    "Cycles = {}\n",
    "params = ['Temperature_measured', 'Voltage_measured', 'Voltage_load', 'Time']\n",
    "\n",
    "# remove batteries from group\n",
    "bs_compt = BSSS\n",
    "bs_compt = removeFromGroup(bs_compt)\n",
    "\n",
    "\n",
    "rmses = []\n",
    "rmses_train = []\n",
    "\n",
    "for bs_cmpt in bs_compt:\n",
    "    rmses.append([bs_compt[bs_cmpt][0]])\n",
    "    rmses_train.append([bs_compt[bs_cmpt][0]])\n",
    "    \n",
    "\n",
    "hyper_params = []\n",
    "    \n",
    "# iterate over the merge hyper parameter\n",
    "for xx in tqdm(range(1, 41)):\n",
    "\n",
    "    results = Texttable()\n",
    "    results.add_row([ 'Compatible Batteries', 'Cycles', 'MAE', 'RMSE', 'R2 Score' ])\n",
    "    \n",
    "    loc = 0\n",
    "    \n",
    "    # iterate over all the battery sets\n",
    "    for bs_cmpt in bs_compt:\n",
    "        # getting data for a given set\n",
    "\n",
    "        # y contains RUL after current cycle\n",
    "        # model will train for y\n",
    "        y = []\n",
    "\n",
    "        bs = bs_compt[bs_cmpt]\n",
    "        for b in bs:\n",
    "            Cycles[b] = {}\n",
    "            for param in params:\n",
    "                Cycles[b][param] = []\n",
    "                for j in range(datas[b].size):\n",
    "                    if types[b][j] == 'discharge':\n",
    "                        Cycles[b][param].append(datas[b][j][param][0][0][0])\n",
    "\n",
    "            cap = []\n",
    "            for j in range(datas[b].size):\n",
    "                if types[b][j] == 'discharge':\n",
    "                    cap.append(datas[b][j]['Capacity'][0][0][0][0])\n",
    "            Cycles[b]['Capacity'] = np.array(cap)\n",
    "            Cycles[b]['count'] = len(Cycles[b][params[0]])\n",
    "\n",
    "            effective_cycle_count = 0\n",
    "            for x in Cycles[b]['Capacity']:\n",
    "                if (x < 1.4):\n",
    "                    break\n",
    "                effective_cycle_count += 1\n",
    "\n",
    "            for i in range(len(Cycles[b]['Capacity'])):\n",
    "                if (i < effective_cycle_count):\n",
    "                    y.append((1 - ((i + 1) / effective_cycle_count)) * 100)\n",
    "                else:\n",
    "                    y.append(0)\n",
    "\n",
    "        # preparing data for regression model\n",
    "        temperature_measured = []\n",
    "        voltage_measured = []\n",
    "        voltage_load = []\n",
    "        capacity = []\n",
    "\n",
    "        for b in bs:        \n",
    "            for c in Cycles[b]['Capacity']:\n",
    "                capacity.append(c)\n",
    "            for i in range(Cycles[b]['count']):\n",
    "                temperature_measured.append(getTemperatureMeasuredCritical(Cycles[b]['Temperature_measured'][i], Cycles[b]['Time'][i]))\n",
    "                voltage_measured.append(getVoltageMeasuredCritical(Cycles[b]['Voltage_measured'][i], Cycles[b]['Time'][i]))\n",
    "                voltage_load.append(getVoltageLoadCritical(Cycles[b]['Voltage_load'][i], Cycles[b]['Time'][i]))\n",
    "\n",
    "        # creating the model\n",
    "        X = []\n",
    "        for i in range(len(temperature_measured)):\n",
    "            X.append(np.array([temperature_measured[i], voltage_measured[i], voltage_load[i], capacity[i]]))\n",
    "    #     X.append(np.array(capacity))\n",
    "        X = np.array(X)\n",
    "        y = np.array(y)\n",
    "        \n",
    "        # merge cycles\n",
    "        X, y = merge(X, y, xx)\n",
    "\n",
    "        # creating train test split\n",
    "        X_train, X_test, y_train, y_test = train_test_split(X, y, test_size = 0.25, random_state = 0)\n",
    "        \n",
    "        ############## ------------------ MODEL ------------------- ####################\n",
    "        \n",
    "        ### Liner Regression with Ridge Regularization ###\n",
    "#         regressor = Ridge(alpha=0.5)\n",
    "#         regressor.fit(X_train, y_train)\n",
    "#         y_pred = regressor.predict(X_test)\n",
    "#         y_pred_train = regressor.predict(X_train)\n",
    "        \n",
    "        \n",
    "        ### ARDRegresssor ###\n",
    "#         regressor = ARDRegression()\n",
    "#         regressor.fit(X_train, y_train)\n",
    "#         y_pred = regressor.predict(X_test)\n",
    "#         y_pred_train = regressor.predict(X_train)\n",
    "        \n",
    "    \n",
    "        ### Bayes Model ###\n",
    "#         regressor = BayesianRidge()\n",
    "#         regressor.fit(X_train, y_train)\n",
    "#         y_pred = regressor.predict(X_test)\n",
    "#         y_pred_train = regressor.predict(X_train)\n",
    "        \n",
    "    \n",
    "        ## ELM Regressor with pso ###\n",
    "        from skelm import ELMRegressor\n",
    "        from pyswarm import pso\n",
    "        \n",
    "        def objective(aaa):\n",
    "            estimator = ELMRegressor(alpha = aaa[0], \n",
    "                                 n_neurons = aaa[1], \n",
    "                                 ufunc='relu', \n",
    "                                 include_original_features = False)\n",
    "        \n",
    "            estimator.fit(X_train, y_train)\n",
    "            y_pred = estimator.predict(X_test)\n",
    "            y_pred_train = estimator.predict(X_train)\n",
    "            \n",
    "            rmse = 0\n",
    "            for i in range(len(y_test)):\n",
    "                rmse += ((y_test[i] - y_pred[i]) * (y_test[i] - y_pred[i]))\n",
    "            rmse = math.sqrt(rmse / len(y_test))\n",
    "            \n",
    "            return rmse\n",
    "        \n",
    "        # bounds for hyper param\n",
    "        lb = [1, 10]\n",
    "        ub = [1e5, 1000]\n",
    "        \n",
    "        # optimizing\n",
    "        xopt, fopt = pso(objective, lb, ub)\n",
    "        print(xopt)\n",
    "        \n",
    "        hyper_params.append(xopt)\n",
    "        \n",
    "        estimator = ELMRegressor(alpha = xopt[0], \n",
    "                                 n_neurons = xopt[1], \n",
    "                                 ufunc='relu', \n",
    "                                 include_original_features = False)\n",
    "        \n",
    "        estimator.fit(X_train, y_train)\n",
    "        y_pred = estimator.predict(X_test)\n",
    "        y_pred_train = estimator.predict(X_train)\n",
    "\n",
    "\n",
    "        ### Decision Tree ###\n",
    "#         from sklearn import tree\n",
    "#         regressor = tree.DecisionTreeRegressor()\n",
    "#         regressor.fit(X_train, y_train)\n",
    "#         y_pred = regressor.predict(X_test)\n",
    "#         y_pred_train = regressor.predict(X_train)\n",
    "\n",
    "#         ### Random Forest Regressor ### (BEST)\n",
    "#         regressor = RandomForestRegressor(max_depth =10, random_state= 0)\n",
    "#         regressor.fit(X_train, y_train)\n",
    "#         y_pred = regressor.predict(X_test)\n",
    "#         y_pred_train = regressor.predict(X_train)\n",
    "        \n",
    "        ############# ----------------- MODEL -------------------- #####################\n",
    "\n",
    "        # model evaluation\n",
    "        diff = 0\n",
    "        total = 0\n",
    "        rmse = 0\n",
    "        for i in range(len(y_test)):\n",
    "            diff += abs(y_test[i] - y_pred[i])\n",
    "            rmse += ((y_test[i] - y_pred[i]) * (y_test[i] - y_pred[i]))\n",
    "            total += y_test[i]\n",
    "        diff /= len(y_test)\n",
    "        total /= len(y_test)\n",
    "        rmse = math.sqrt(rmse / len(y_test))\n",
    "        accuracy2 = ((total - diff) / total) * 100\n",
    "        accuracy = r2_score(y_test, y_pred)\n",
    "\n",
    "        # Adding evaluation to result array to print in a table\n",
    "#         results.add_row([ str(bs), str(Cycles[bs[0]]['count']), diff, rmse, accuracy, accuracy2 ])\n",
    "        \n",
    "        rmses[loc].append(rmse)\n",
    "        \n",
    "        #### adding rmses of the train\n",
    "        rmse_train = 0\n",
    "        for i in range(len(y_train)):\n",
    "            rmse_train += ((y_train[i] - y_pred_train[i]) * (y_train[i] - y_pred_train[i]))\n",
    "        rmse_train = math.sqrt(rmse_train / len(y_train))\n",
    "        rmses_train[loc].append(rmse_train)\n",
    "        loc += 1\n",
    "\n",
    "    # printing results\n",
    "#     print(f'Evaluation: Clubbing Compatible Batteries for cycle param: {xx}\\n{results.draw()}')"
   ]
  },
  {
   "cell_type": "code",
   "execution_count": 16,
   "metadata": {
    "scrolled": false
   },
   "outputs": [
    {
     "name": "stdout",
     "output_type": "stream",
     "text": [
      "Minima Test: 2.707364917809226, Merge: 22\n",
      "Minima Train: 1.7808343756843918, Merge: 31\n"
     ]
    },
    {
     "data": {
      "image/png": "[encoded data removed]",
      "text/plain": [
       "<Figure size 432x288 with 1 Axes>"
      ]
     },
     "metadata": {
      "needs_background": "light"
     },
     "output_type": "display_data"
    },
    {
     "name": "stdout",
     "output_type": "stream",
     "text": [
      "Minima Test: 6.0054530032164175, Merge: 40\n",
      "Minima Train: 1.7838643053600816, Merge: 40\n"
     ]
    },
    {
     "data": {
      "image/png": "[encoded data removed]",
      "text/plain": [
       "<Figure size 432x288 with 1 Axes>"
      ]
     },
     "metadata": {
      "needs_background": "light"
     },
     "output_type": "display_data"
    },
    {
     "name": "stdout",
     "output_type": "stream",
     "text": [
      "Minima Test: 1.260004865426181, Merge: 40\n",
      "Minima Train: 0.43305201260295595, Merge: 40\n"
     ]
    },
    {
     "data": {
      "image/png": "[encoded data removed]",
      "text/plain": [
       "<Figure size 432x288 with 1 Axes>"
      ]
     },
     "metadata": {
      "needs_background": "light"
     },
     "output_type": "display_data"
    },
    {
     "name": "stdout",
     "output_type": "stream",
     "text": [
      "Minima Test: 3.7085264564733005, Merge: 12\n",
      "Minima Train: 0.9159877777151173, Merge: 22\n"
     ]
    },
    {
     "data": {
      "image/png": "[encoded data removed]",
      "text/plain": [
       "<Figure size 432x288 with 1 Axes>"
      ]
     },
     "metadata": {
      "needs_background": "light"
     },
     "output_type": "display_data"
    },
    {
     "name": "stdout",
     "output_type": "stream",
     "text": [
      "Hyper Parameters: [array([  1.        , 241.17417324]), array([  1.        , 654.47252337]), array([  1.        , 758.03338547]), array([  1.        , 463.76677774]), array([  1.        , 491.89155856]), array([1.e+05, 1.e+01]), array([  1.        , 821.53790896]), array([  1.        , 508.71479191]), array([ 1., 10.]), array([1.e+05, 1.e+01]), array([3.65773170e+04, 1.25842888e+01]), array([115.95390337, 767.21781795]), array([ 93.62135941, 240.5641288 ]), array([63322.97960472,    79.52687511]), array([9.64098243e+04, 2.03144449e+01]), array([  1.        , 190.48187795]), array([  1.        , 319.62759194]), array([9.20144576e+04, 1.67587308e+01]), array([5.43956988e+04, 1.87513481e+01]), array([   1., 1000.]), array([214.92208918, 176.20256591]), array([9.95388213e+04, 2.40869760e+01]), array([7.10083819e+04, 2.12364125e+01]), array([  1.        , 576.63512424]), array([268.29506378, 823.47290569]), array([8.20912476e+04, 1.49441270e+01]), array([5338.25327994,  400.77230459]), array([  1.        , 421.21745823]), array([256.58846144, 303.10143634]), array([8.67956862e+04, 2.40366523e+01]), array([61944.58381592,   232.73381352]), array([  1.        , 599.80719006]), array([448.98833767, 711.98524116]), array([96033.47180724,   315.46464995]), array([50445.4164644 ,   338.07879341]), array([  1.        , 269.67330066]), array([308.301603  , 590.61957522]), array([6.33090010e+04, 4.30733126e+01]), array([66350.98971252,   118.67230847]), array([  1.        , 505.48297631]), array([69.30728405, 86.5543112 ]), array([41374.7914552 ,    47.81670356]), array([40132.53132223,   203.57817194]), array([6.20256000e+04, 3.77518983e+01]), array([  1.       , 499.2079841]), array([58836.06645456,   243.9455528 ]), array([91799.26474941,   201.89455885]), array([  1.        , 608.63836236]), array([  1.        , 217.07300556]), array([5.85520651e+04, 5.46593436e+01]), array([85066.51729799,   963.34445157]), array([  1.       , 260.8912159]), array([  1.        , 199.96434264]), array([94675.55660884,   301.17537854]), array([100000.        ,    730.46950423]), array([  1.        , 616.65430248]), array([  1.        , 195.65822554]), array([94723.11997121,   173.97937874]), array([89946.89155109,   944.34403199]), array([  1.        , 250.89259698]), array([ 51.86700525, 781.3834172 ]), array([5.37977136e+04, 3.93128290e+01]), array([44334.03573989,   409.99073156]), array([5.80584442e+04, 1.62767758e+01]), array([147.05427847, 423.88331786]), array([8.54612490e+04, 6.60477416e+01]), array([80425.04529221,   750.91134884]), array([  1.        , 474.62130987]), array([395.9081183 , 731.39952547]), array([76745.91725399,    97.13969202]), array([56219.16500351,   453.2719349 ]), array([  1.        , 241.21196884]), array([181.98777939, 566.3759468 ]), array([82319.66534839,   111.00452436]), array([53366.90813968,   607.1493755 ]), array([  1.        , 250.39960625]), array([153.02353165, 543.92400163]), array([90260.56975272,   123.16702189]), array([37531.67783226,   361.75337162]), array([7.71494161e+04, 1.00000000e+01]), array([182.41238632, 481.36901907]), array([97746.32646895,   123.38345426]), array([50081.53079102,   583.60527165]), array([1687.98227952,  507.79634485]), array([150.91820213, 451.47709281]), array([81767.77866976,   208.04636815]), array([45797.86189061,   310.36274688]), array([  1.        , 632.02037657]), array([ 78.9791837 , 242.06511928]), array([98053.39052658,   401.62786258]), array([72585.39529677,   977.60423662]), array([5.8677362e+04, 1.0000000e+01]), array([2.96008902e+04, 1.49173624e+01]), array([6.99023062e+04, 1.17252877e+01]), array([72874.1504955 ,   592.64196413]), array([37102.84421189,    37.97540734]), array([ 55.50915314, 223.98442584]), array([81277.77987469,   260.59561722]), array([40635.72669016,   630.91503222]), array([7.99361167e+04, 2.88826845e+01]), array([160.44942768, 888.24056992]), array([90735.77697163,   558.84092351]), array([54787.01629187,   611.44168184]), array([ 54.68445036, 431.67461427]), array([4.17137199e+04, 1.96458432e+01]), array([88491.94794881,   231.5016125 ]), array([88087.60979325,   531.55124104]), array([6.86387054e+04, 1.28747672e+01]), array([185.45472042, 597.81914237]), array([98726.21426004,   292.86724487]), array([60475.58853524,   592.97611372]), array([6.76695091e+04, 1.71836907e+01]), array([207.88364384, 567.24695535]), array([100000.,   1000.]), array([49638.33543837,   702.26843472]), array([6.28891367e+04, 2.07412826e+01]), array([314.82722769, 418.30991478]), array([5.94310980e+04, 1.78673402e+01]), array([43251.10245517,  1000.        ]), array([5.71996752e+04, 1.14826202e+01]), array([ 97.02807453, 529.60481067]), array([95433.83608029,   889.84146232]), array([27936.00160193,   444.8676675 ]), array([9.53907223e+04, 1.74756424e+01]), array([7.26643222e+04, 3.77817703e+01]), array([91543.24418606,   545.83949234]), array([32820.93220607,   729.70855206]), array([9.31882959e+04, 1.22327443e+01]), array([391.82144485, 961.15874495]), array([91256.54232065,   177.3675286 ]), array([61469.90629707,   694.29486353]), array([7.72659349e+04, 2.10673008e+01]), array([5.68648042e+04, 3.17345041e+01]), array([83712.20181637,   104.34014104]), array([60413.22847573,   875.00855838]), array([5.18937202e+04, 1.09867074e+01]), array([1732.43708305,  264.91696223]), array([70131.27961635,   501.12123345]), array([39812.83038951,   698.66531899]), array([2.28269944e+04, 1.43905238e+01]), array([243.53458777, 259.82044525]), array([64145.78840227,   521.09427685]), array([54794.58733125,   737.48210665]), array([3.46644594e+04, 1.00000000e+01]), array([5.69189648e+04, 3.11199031e+01]), array([99231.99585967,   248.85994056]), array([55532.99242176,   814.01611345]), array([6.42702230e+04, 5.24507872e+01]), array([7.89930051e+04, 4.03144710e+01]), array([76773.51090111,   211.54539933]), array([87203.68143554,   883.03779515]), array([4.09779248e+04, 1.96444425e+01]), array([4.9795638e+04, 1.0000000e+01]), array([80052.4176749 ,   384.78212381]), array([83202.60843312,   977.61174059]), array([7.07689505e+04, 2.79593621e+01]), array([43923.043915 ,   178.4570475]), array([96502.4871424 ,   405.80138942]), array([74330.877782  ,   837.12277996]), array([6.71535145e+04, 2.98788748e+01])]\n"
     ]
    }
   ],
   "source": [
    "for i in range(len(rmses)):\n",
    "    rm = rmses[i]\n",
    "    rm_train = rmses_train[i]\n",
    "    \n",
    "    mn = 100000\n",
    "    mn_train = 100000\n",
    "    loc, loc_train = -1, -1\n",
    "    for i in range(1, len(rm)):\n",
    "        if (mn > rm[i]):\n",
    "            mn = rm[i]\n",
    "            loc = i\n",
    "        \n",
    "        if (mn_train > rm_train[i]):\n",
    "            mn_train = rm_train[i]\n",
    "            loc_train = i\n",
    "            \n",
    "    print(f\"Minima Test: {mn}, Merge: {loc}\")\n",
    "    print(f\"Minima Train: {mn_train}, Merge: {loc_train}\")\n",
    "    \n",
    "    fig, ax = plt.subplots()\n",
    "    ax.plot(range(1, len(rm)), rm[1:])\n",
    "    ax.plot(range(1, len(rm)), rm_train[1:])\n",
    "    plt.ylabel(rm[0])\n",
    "    plt.show()\n",
    "print(f\"Hyper Parameters: {hyper_params}\")"
   ]
  },
  {
   "cell_type": "code",
   "execution_count": null,
   "metadata": {},
   "outputs": [],
   "source": []
  }
 ],
 "metadata": {
  "kernelspec": {
   "display_name": "Python 3",
   "language": "python",
   "name": "python3"
  },
  "language_info": {
   "codemirror_mode": {
    "name": "ipython",
    "version": 3
   },
   "file_extension": ".py",
   "mimetype": "text/x-python",
   "name": "python",
   "nbconvert_exporter": "python",
   "pygments_lexer": "ipython3",
   "version": "3.8.5"
  }
 },
 "nbformat": 4,
 "nbformat_minor": 4
}
